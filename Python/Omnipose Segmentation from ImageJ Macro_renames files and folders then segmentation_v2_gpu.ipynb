{
 "cells": [
  {
   "cell_type": "markdown",
   "metadata": {},
   "source": [
    "# Omnipose Segmentation from ImageJ Macro converted image directories\n",
    "\n",
    "This file is meant to aid in omnipose segmentation in a reproducible and streamlined way to help with automated image analysis especially early QC to adjust experimental and imaging parameters as needed to optimize S/N for the experiment. "
   ]
  },
  {
   "cell_type": "markdown",
   "metadata": {},
   "source": [
    "#### Import Necessary packages and Functions"
   ]
  },
  {
   "cell_type": "code",
   "execution_count": 1,
   "metadata": {},
   "outputs": [],
   "source": [
    "# Imports for all chunks\n",
    "import os\n",
    "import shutil\n",
    "from aicsimageio.readers.ome_tiff_reader import OmeTiffReader\n",
    "import numpy as np\n",
    "import matplotlib as mpl\n",
    "import matplotlib.pyplot as plt\n",
    "from skimage.io import imread, imsave\n",
    "from pathlib import Path\n",
    "import time\n"
   ]
  },
  {
   "cell_type": "code",
   "execution_count": 2,
   "metadata": {},
   "outputs": [
    {
     "name": "stderr",
     "output_type": "stream",
     "text": [
      "c:\\Users\\Nikon\\anaconda3\\envs\\omnipose\\lib\\site-packages\\torchvision\\io\\image.py:13: UserWarning: Failed to load image Python extension: '[WinError 127] The specified procedure could not be found'If you don't plan on using image functionality from `torchvision.io`, you can ignore this warning. Otherwise, there might be something wrong with your environment. Did you have `libjpeg` or `libpng` installed before building `torchvision` from source?\n",
      "  warn(\n"
     ]
    },
    {
     "name": "stdout",
     "output_type": "stream",
     "text": [
      "2023-10-20 09:30:36,196 [INFO] ** TORCH GPU version installed and working. **\n",
      ">>> GPU activated? True\n"
     ]
    },
    {
     "name": "stderr",
     "output_type": "stream",
     "text": [
      "c:\\Users\\Nikon\\anaconda3\\envs\\omnipose\\lib\\site-packages\\tqdm\\auto.py:21: TqdmWarning: IProgress not found. Please update jupyter and ipywidgets. See https://ipywidgets.readthedocs.io/en/stable/user_install.html\n",
      "  from .autonotebook import tqdm as notebook_tqdm\n"
     ]
    }
   ],
   "source": [
    "# omnipose setup and GPU\n",
    "from cellpose_omni import models, core\n",
    "import torch\n",
    "use_GPU = core.use_gpu()\n",
    "print('>>> GPU activated? {}'.format(use_GPU))"
   ]
  },
  {
   "cell_type": "code",
   "execution_count": 3,
   "metadata": {},
   "outputs": [],
   "source": [
    "\n",
    "\n",
    "import os\n",
    "import shutil\n",
    "from aicsimageio.readers.ome_tiff_reader import OmeTiffReader\n",
    "\n",
    "# Mapping dictionary for renaming channels\n",
    "channel_map = {'Phase': 'phase', 'eGFP': 'fish', 'DAPI': 'dapi'}\n",
    "\n",
    "# Root directory\n",
    "root_dir = r'C:\\Users\\Nikon\\Downloads\\Omni\\sandbox_2'  #this would be a directory where your biorep level folder is stored\n",
    "\n",
    "# Navigate through directories to find OME.TIFF files and rename them\n",
    "for biorep_dir in os.listdir(root_dir):\n",
    "    biorep_path = os.path.join(root_dir, biorep_dir)\n",
    "    if os.path.isdir(biorep_path):\n",
    "        for date_strain_dir in os.listdir(biorep_path):\n",
    "            date_strain_path = os.path.join(biorep_path, date_strain_dir)\n",
    "            if os.path.isdir(date_strain_path):\n",
    "                for sub_dir in os.listdir(date_strain_path):\n",
    "                    sub_dir_path = os.path.join(date_strain_path, sub_dir)\n",
    "                    if os.path.isdir(sub_dir_path):\n",
    "                        for img_data_dir in os.listdir(sub_dir_path):\n",
    "                            img_data_path = os.path.join(sub_dir_path, img_data_dir)\n",
    "                            if os.path.isdir(img_data_path):\n",
    "                                for file in os.listdir(img_data_path):\n",
    "                                    if file.endswith('.ome.tiff') or file.endswith('.ome.tif'):\n",
    "                                        file_path = os.path.join(img_data_path, file)\n",
    "                                        \n",
    "                                        # Read the OME.TIFF file to get channel names\n",
    "                                        reader = OmeTiffReader(file_path)\n",
    "                                        ome_metadata = reader.ome_metadata\n",
    "                                        channel_names = [channel.name for channel in ome_metadata.images[0].pixels.channels]\n",
    "                                        \n",
    "                                        # Rename folders and files based on channel names\n",
    "                                        for i, channel_name in enumerate(channel_names):\n",
    "                                            # Map the original channel name to the new name using the channel_map dictionary\n",
    "                                            mapped_name = channel_map.get(channel_name, channel_name)\n",
    "                                            \n",
    "                                            # Create the old and new folder names based on channel index\n",
    "                                            old_folder_name = f\"C{i+1}-MAX_sequence\"\n",
    "                                            new_folder_name = f\"{mapped_name}-MAX_sequence\"\n",
    "                                            \n",
    "                                            # Create the full path to the old and new folder names\n",
    "                                            old_folder_path = os.path.join(img_data_path, old_folder_name)\n",
    "                                            new_folder_path = os.path.join(img_data_path, new_folder_name)\n",
    "                                            \n",
    "                                            # If the old folder exists, rename it to the new folder name\n",
    "                                            if os.path.exists(old_folder_path):\n",
    "                                                shutil.move(old_folder_path, new_folder_path)\n",
    "                                            \n",
    "                                            # Rename individual single-page TIFF files inside the new folder\n",
    "                                            for single_tiff in os.listdir(new_folder_path):\n",
    "                                                # Check if the file starts with the old channel name\n",
    "                                                if single_tiff.startswith(f\"C{i+1}-MAX\"):\n",
    "                                                    # Create the full path to the old single-page TIFF file\n",
    "                                                    old_single_tiff_path = os.path.join(new_folder_path, single_tiff)\n",
    "                                                    \n",
    "                                                    # Create the new single-page TIFF file name based on mapped channel name\n",
    "                                                    new_single_tiff_name = single_tiff.replace(f\"C{i+1}-MAX\", f\"{mapped_name}-MAX\")\n",
    "                                                    \n",
    "                                                    # Create the full path to the new single-page TIFF file\n",
    "                                                    new_single_tiff_path = os.path.join(new_folder_path, new_single_tiff_name)\n",
    "                                                    \n",
    "                                                    # Rename the old single-page TIFF file to the new name\n",
    "                                                    shutil.move(old_single_tiff_path, new_single_tiff_path)\n",
    "                                            \n",
    "                                            # Create old and new multi-page TIFF file names based on channel index\n",
    "                                            old_file_name = f\"C{i+1}-MAX.tif\"\n",
    "                                            new_file_name = f\"{mapped_name}-MAX.tif\"\n",
    "                                            \n",
    "                                            # Create the full path to the old and new multi-page TIFF files\n",
    "                                            old_file_path = os.path.join(img_data_path, old_file_name)\n",
    "                                            new_file_path = os.path.join(img_data_path, new_file_name)\n",
    "                                            \n",
    "                                            # If the old multi-page TIFF file exists, rename it to the new name\n",
    "                                            if os.path.exists(old_file_path):\n",
    "                                                shutil.move(old_file_path, new_file_path)\n",
    "\n",
    "\n"
   ]
  },
  {
   "cell_type": "markdown",
   "metadata": {},
   "source": [
    "## Running Omnipose for Segmentation\n",
    "\n",
    "Here is the incorporation into the omnipose script"
   ]
  },
  {
   "cell_type": "markdown",
   "metadata": {},
   "source": [
    "### Importing the images and QC to check images match expectations"
   ]
  },
  {
   "cell_type": "markdown",
   "metadata": {},
   "source": [
    "### Collecting all the tiff files for omnipose\n"
   ]
  },
  {
   "cell_type": "markdown",
   "metadata": {},
   "source": []
  },
  {
   "cell_type": "code",
   "execution_count": 4,
   "metadata": {},
   "outputs": [
    {
     "name": "stdout",
     "output_type": "stream",
     "text": [
      "Warning: Image at C:\\Users\\Nikon\\Downloads\\Omni\\sandbox_2\\biorep1\\20230801_LZ22225_imaging\\Image_Data\\20230801_LZ22225_60min_uninf.003\\phase-MAX_sequence\\phase-MAX-0010.tif has issues.\n",
      "  - Original image shape: (512, 512)\n",
      "  - Data type: uint16\n",
      "  - Data range: min 20039, max 35621\n",
      "\n",
      "Total number of images processed: 70\n",
      "Number of images with issues: 1\n"
     ]
    }
   ],
   "source": [
    "from skimage import io  # Importing the io module from skimage for image reading\n",
    "\n",
    "# Initialize an empty list to store the full paths of all phase-MAX_sequence TIFF files.\n",
    "# This list will include both newly renamed and previously renamed phase files.\n",
    "all_phase_max_sequence_files = []\n",
    "\n",
    "# Counter for total images\n",
    "total_images = 0\n",
    "\n",
    "# Counter for images with issues\n",
    "issues_counter = 0\n",
    "\n",
    "# Use os.walk to navigate through the directory tree rooted at root_dir.\n",
    "# os.walk yields a 3-tuple (dirpath, dirnames, filenames) for each directory it visits.\n",
    "# dirpath is the path to the current directory, dirnames is a list of subdirectories in the current directory,\n",
    "# and filenames is a list of filenames in the current directory.\n",
    "\n",
    "# Loop through the directory structure\n",
    "for root, dirs, files in os.walk(root_dir):\n",
    "    for dir in dirs:\n",
    "        if dir == \"phase-MAX_sequence\":\n",
    "            phase_folder_path = os.path.join(root, dir)\n",
    "            for file in os.listdir(phase_folder_path):\n",
    "                if file.endswith(\".tif\"):\n",
    "                    full_file_path = os.path.join(phase_folder_path, file)\n",
    "                    all_phase_max_sequence_files.append(full_file_path)\n",
    "                    \n",
    "                    # Read the image into an array\n",
    "                    img = io.imread(full_file_path)\n",
    "                    \n",
    "                    # Perform quality checks\n",
    "                    shape = img.shape\n",
    "                    dtype = img.dtype\n",
    "                    min_val, max_val = img.min(), img.max()\n",
    "\n",
    "                    # Increment the total_images counter\n",
    "                    total_images += 1\n",
    "\n",
    "                    #quality control checks here\n",
    "                    if shape != (512, 512) or min_val < 3500 or max_val > 35000:\n",
    "                        issues_counter += 1\n",
    "                        print(f\"Warning: Image at {full_file_path} has issues.\")\n",
    "                        print(f\"  - Original image shape: {shape}\")\n",
    "                        print(f\"  - Data type: {dtype}\")\n",
    "                        print(f\"  - Data range: min {min_val}, max {max_val}\")\n",
    "\n",
    "print(f\"\\nTotal number of images processed: {total_images}\")\n",
    "if issues_counter:\n",
    "    print(f\"Number of images with issues: {issues_counter}\")\n",
    "else:\n",
    "    print(\"No issues found in images.\")\n"
   ]
  },
  {
   "cell_type": "markdown",
   "metadata": {},
   "source": [
    "### Segmentation\n"
   ]
  },
  {
   "cell_type": "code",
   "execution_count": 5,
   "metadata": {},
   "outputs": [
    {
     "name": "stdout",
     "output_type": "stream",
     "text": [
      "CUDA-enabled GPU found. Switching to GPU mode.\n"
     ]
    }
   ],
   "source": [
    "from skimage.io import imread, imsave\n",
    "from skimage import img_as_uint \n",
    "import numpy as np\n",
    "from cellpose_omni import models, utils, io as cellpose_io\n",
    "from skimage.measure import label, regionprops\n",
    "from skimage.color import label2rgb\n",
    "import time\n",
    "from tifffile import TiffFile, imwrite\n",
    "import re\n",
    "\n",
    "# Check for CUDA-enabled GPU availability\n",
    "# Uncomment this block when you want to switch to GPU computation\n",
    "\n",
    "import torch\n",
    "\n",
    "# Check for GPU availability and set the gpu flag\n",
    "if torch.cuda.is_available():\n",
    "    gpu = True\n",
    "    print(\"CUDA-enabled GPU found. Switching to GPU mode.\")\n",
    "else:\n",
    "    gpu = False\n",
    "    print(\"No CUDA-enabled GPU found. Running on CPU.\")\n",
    "\n"
   ]
  },
  {
   "cell_type": "code",
   "execution_count": 7,
   "metadata": {},
   "outputs": [
    {
     "name": "stdout",
     "output_type": "stream",
     "text": [
      "2023-10-20 01:15:13,245 [INFO] >>bact_phase_omni<< model set to be used\n",
      "2023-10-20 01:15:13,247 [INFO] ** TORCH GPU version installed and working. **\n",
      "2023-10-20 01:15:13,248 [INFO] >>>> using GPU\n"
     ]
    },
    {
     "ename": "TypeError",
     "evalue": "expected str, bytes or os.PathLike object, not NoneType",
     "output_type": "error",
     "traceback": [
      "\u001b[1;31m---------------------------------------------------------------------------\u001b[0m",
      "\u001b[1;31mTypeError\u001b[0m                                 Traceback (most recent call last)",
      "\u001b[1;32mc:\\Users\\Nikon\\Fiji.app\\Fiji.app\\Image_Analysis\\Python\\Omnipose Segmentation from ImageJ Macro_renames files and folders then segmentation_v2_gpu.ipynb Cell 13\u001b[0m line \u001b[0;36m8\n\u001b[0;32m     <a href='vscode-notebook-cell:/c%3A/Users/Nikon/Fiji.app/Fiji.app/Image_Analysis/Python/Omnipose%20Segmentation%20from%20ImageJ%20Macro_renames%20files%20and%20folders%20then%20segmentation_v2_gpu.ipynb#X15sZmlsZQ%3D%3D?line=82'>83</a>\u001b[0m tiff_path \u001b[39m=\u001b[39m find_multipage_tiff(os\u001b[39m.\u001b[39mpath\u001b[39m.\u001b[39mdirname(file))\n\u001b[0;32m     <a href='vscode-notebook-cell:/c%3A/Users/Nikon/Fiji.app/Fiji.app/Image_Analysis/Python/Omnipose%20Segmentation%20from%20ImageJ%20Macro_renames%20files%20and%20folders%20then%20segmentation_v2_gpu.ipynb#X15sZmlsZQ%3D%3D?line=84'>85</a>\u001b[0m \u001b[39m# Initialize output folders\u001b[39;00m\n\u001b[1;32m---> <a href='vscode-notebook-cell:/c%3A/Users/Nikon/Fiji.app/Fiji.app/Image_Analysis/Python/Omnipose%20Segmentation%20from%20ImageJ%20Macro_renames%20files%20and%20folders%20then%20segmentation_v2_gpu.ipynb#X15sZmlsZQ%3D%3D?line=85'>86</a>\u001b[0m output_folder_cell_only \u001b[39m=\u001b[39m os\u001b[39m.\u001b[39mpath\u001b[39m.\u001b[39mjoin(os\u001b[39m.\u001b[39;49mpath\u001b[39m.\u001b[39;49mdirname(tiff_path), \u001b[39m'\u001b[39m\u001b[39mcell_only\u001b[39m\u001b[39m'\u001b[39m)\n\u001b[0;32m     <a href='vscode-notebook-cell:/c%3A/Users/Nikon/Fiji.app/Fiji.app/Image_Analysis/Python/Omnipose%20Segmentation%20from%20ImageJ%20Macro_renames%20files%20and%20folders%20then%20segmentation_v2_gpu.ipynb#X15sZmlsZQ%3D%3D?line=86'>87</a>\u001b[0m output_folder_bg_only \u001b[39m=\u001b[39m os\u001b[39m.\u001b[39mpath\u001b[39m.\u001b[39mjoin(os\u001b[39m.\u001b[39mpath\u001b[39m.\u001b[39mdirname(tiff_path), \u001b[39m'\u001b[39m\u001b[39mbackground_only\u001b[39m\u001b[39m'\u001b[39m)\n\u001b[0;32m     <a href='vscode-notebook-cell:/c%3A/Users/Nikon/Fiji.app/Fiji.app/Image_Analysis/Python/Omnipose%20Segmentation%20from%20ImageJ%20Macro_renames%20files%20and%20folders%20then%20segmentation_v2_gpu.ipynb#X15sZmlsZQ%3D%3D?line=88'>89</a>\u001b[0m \u001b[39m# Create output directories if they don't exist\u001b[39;00m\n",
      "File \u001b[1;32mc:\\Users\\Nikon\\anaconda3\\envs\\omnipose\\lib\\ntpath.py:249\u001b[0m, in \u001b[0;36mdirname\u001b[1;34m(p)\u001b[0m\n\u001b[0;32m    247\u001b[0m \u001b[39mdef\u001b[39;00m \u001b[39mdirname\u001b[39m(p):\n\u001b[0;32m    248\u001b[0m \u001b[39m    \u001b[39m\u001b[39m\"\"\"Returns the directory component of a pathname\"\"\"\u001b[39;00m\n\u001b[1;32m--> 249\u001b[0m     \u001b[39mreturn\u001b[39;00m split(p)[\u001b[39m0\u001b[39m]\n",
      "File \u001b[1;32mc:\\Users\\Nikon\\anaconda3\\envs\\omnipose\\lib\\ntpath.py:211\u001b[0m, in \u001b[0;36msplit\u001b[1;34m(p)\u001b[0m\n\u001b[0;32m    206\u001b[0m \u001b[39mdef\u001b[39;00m \u001b[39msplit\u001b[39m(p):\n\u001b[0;32m    207\u001b[0m \u001b[39m    \u001b[39m\u001b[39m\"\"\"Split a pathname.\u001b[39;00m\n\u001b[0;32m    208\u001b[0m \n\u001b[0;32m    209\u001b[0m \u001b[39m    Return tuple (head, tail) where tail is everything after the final slash.\u001b[39;00m\n\u001b[0;32m    210\u001b[0m \u001b[39m    Either part may be empty.\"\"\"\u001b[39;00m\n\u001b[1;32m--> 211\u001b[0m     p \u001b[39m=\u001b[39m os\u001b[39m.\u001b[39;49mfspath(p)\n\u001b[0;32m    212\u001b[0m     seps \u001b[39m=\u001b[39m _get_bothseps(p)\n\u001b[0;32m    213\u001b[0m     d, p \u001b[39m=\u001b[39m splitdrive(p)\n",
      "\u001b[1;31mTypeError\u001b[0m: expected str, bytes or os.PathLike object, not NoneType"
     ]
    }
   ],
   "source": [
    "\n",
    "\n",
    "\n",
    "# Define function to create subdirectories\n",
    "def create_sub_dirs(sequence_folder):\n",
    "    sub_dirs = ['cell_only', 'background_only', 'masks', 'outlines']\n",
    "    for sub_dir in sub_dirs:\n",
    "        sub_dir_path = os.path.join(sequence_folder, sub_dir)\n",
    "        if not os.path.exists(sub_dir_path):\n",
    "            os.makedirs(sub_dir_path)\n",
    "\n",
    "def find_multipage_tiff(mask_dir):\n",
    "    # Navigate upwards to find the common directory\n",
    "    common_dir = os.path.dirname(mask_dir)\n",
    "\n",
    "# Define Function for saving multi-page results\n",
    "def create_output_dirs(output_folder):\n",
    "    sub_dirs = ['cell_only', 'background_only']\n",
    "    for sub_dir in sub_dirs:\n",
    "        sub_dir_path = os.path.join(output_folder, sub_dir)\n",
    "        if not os.path.exists(sub_dir_path):\n",
    "            os.makedirs(sub_dir_path)\n",
    "\n",
    "# Function to extract sequence numbers from filenames\n",
    "def extract_sequence_number(filename):\n",
    "    match = re.search(r'-(\\d{4})\\.tif', filename)\n",
    "    if match:\n",
    "        return int(match.group(1))\n",
    "    else:\n",
    "        return None\n",
    "\n",
    "# Dictionary to store masks\n",
    "masks_dict = {}\n",
    "        \n",
    "# Initialize model\n",
    "model_name = 'bact_phase_omni'\n",
    "model = models.CellposeModel(gpu=gpu, model_type=model_name)\n",
    "\n",
    "\n",
    "# define parameters\n",
    "params = {\n",
    "    'channels': [0,0],  # Segment based on first channel, no second channel\n",
    "    'rescale': None,  # upscale or downscale your images, None = no rescaling\n",
    "    'mask_threshold': -1,  # erode or dilate masks with higher or lower values\n",
    "    'flow_threshold': 0,  # default is .4, but only needed if there are spurious masks to clean up; slows down output\n",
    "    'transparency': True,  # transparency in flow output\n",
    "    'omni': True,  # we can turn off Omnipose mask reconstruction, not advised\n",
    "    'cluster': True,  # use DBSCAN clustering\n",
    "    'resample': True,  # whether or not to run dynamics on rescaled grid or original grid\n",
    "    'verbose': False,  # turn on if you want to see more output\n",
    "    'tile': False,  # average the outputs from flipped (augmented) images; slower, usually not needed\n",
    "    'niter': None,  # None lets Omnipose calculate # of Euler iterations (usually <20) but you can tune it for over/under segmentation\n",
    "    'augment': False,  # Can optionally rotate the image and average outputs, usually not needed\n",
    "    'affinity_seg': False,  # new feature, stay tuned...\n",
    "}\n",
    "\n",
    "\n",
    "\n",
    "## Segmentation and post-processing\n",
    "for file in sorted(all_phase_max_sequence_files):  # Note the sorting\n",
    "    sequence_number = extract_sequence_number(os.path.basename(file))\n",
    "    if sequence_number is None:\n",
    "        continue\n",
    "\n",
    "    # Read the image\n",
    "    image = imread(file)\n",
    "    \n",
    "    # Apply the model\n",
    "    masks, flows, styles = model.eval(image, **params)\n",
    "    masks_dict[sequence_number] = masks  # Store the mask\n",
    "    \n",
    "    # Post-process\n",
    "    label_image = label(masks)\n",
    "    \n",
    "    # Generate cell-only and background-only images\n",
    "    cell_only_image = image * (masks > 0)\n",
    "    background_only_image = image * (masks == 0)\n",
    "    \n",
    "    # Create subdirectories\n",
    "    directory = os.path.dirname(file)\n",
    "    create_sub_dirs(directory)\n",
    "    filename = os.path.basename(file)\n",
    "    base_name = os.path.splitext(filename)[0]\n",
    "\n",
    "     # Find the corresponding multi-page TIFF\n",
    "    tiff_path = find_multipage_tiff(os.path.dirname(file))\n",
    "    \n",
    "    # Initialize output folders\n",
    "    output_folder_cell_only = os.path.join(os.path.dirname(tiff_path), 'cell_only')\n",
    "    output_folder_bg_only = os.path.join(os.path.dirname(tiff_path), 'background_only')\n",
    "\n",
    "    # Create output directories if they don't exist\n",
    "    create_output_dirs(output_folder_cell_only)\n",
    "    create_output_dirs(output_folder_bg_only)\n",
    "\n",
    "    # Read the multi-page TIFF into a numpy array\n",
    "    with TiffFile(tiff_path) as tif:\n",
    "        multi_page_tiff = tif.asarray()\n",
    "\n",
    "# Apply the mask to each channel in each timepoint\n",
    "    for timepoint, sequence_number in enumerate(sorted(masks_dict.keys())):\n",
    "        current_mask = masks_dict[sequence_number]\n",
    "        \n",
    "        for z in range(multi_page_tiff.shape[1]):\n",
    "            for channel in range(multi_page_tiff.shape[2]):\n",
    "                single_image = multi_page_tiff[timepoint, z, channel, :, :]\n",
    "                masked_image = single_image * (current_mask > 0)\n",
    "                \n",
    "                # Generate the output paths\n",
    "                output_cell_only_path = os.path.join(output_folder_cell_only, f\"Time_{timepoint}_Z_{z}_Channel_{channel}.tif\")\n",
    "                output_bg_only_path = os.path.join(output_folder_bg_only, f\"Time_{timepoint}_Z_{z}_Channel_{channel}.tif\")\n",
    "                \n",
    "                # Save the cell-only and background-only images\n",
    "                imsave(output_cell_only_path, masked_image)\n",
    "                imsave(output_bg_only_path, single_image * (masks == 0))\n",
    "\n",
    "    # Modify the output paths\n",
    "    output_cell_only_path = os.path.join(directory, 'cell_only', f\"{base_name}_cell_only.tif\")\n",
    "    output_background_only_path = os.path.join(directory, 'background_only', f\"{base_name}_background_only.tif\")\n",
    "    output_outlines_path = os.path.join(directory, 'outlines', f\"{base_name}_outlines.txt\")\n",
    "    output_mask_path = os.path.join(directory, 'masks', f\"{base_name}_mask.tif\")\n",
    "    \n",
    "    # Save the images and outlines\n",
    "    imsave(output_cell_only_path, img_as_uint(cell_only_image))\n",
    "    imsave(output_background_only_path, img_as_uint(background_only_image))\n",
    "    cellpose_io.outlines_to_text(output_outlines_path, label_image)\n",
    "    imsave(output_mask_path, masks.astype(np.uint16))\n",
    "\n"
   ]
  },
  {
   "cell_type": "code",
   "execution_count": null,
   "metadata": {},
   "outputs": [],
   "source": []
  }
 ],
 "metadata": {
  "kernelspec": {
   "display_name": "omnipose_env",
   "language": "python",
   "name": "python3"
  },
  "language_info": {
   "codemirror_mode": {
    "name": "ipython",
    "version": 3
   },
   "file_extension": ".py",
   "mimetype": "text/x-python",
   "name": "python",
   "nbconvert_exporter": "python",
   "pygments_lexer": "ipython3",
   "version": "3.10.12"
  }
 },
 "nbformat": 4,
 "nbformat_minor": 2
}
