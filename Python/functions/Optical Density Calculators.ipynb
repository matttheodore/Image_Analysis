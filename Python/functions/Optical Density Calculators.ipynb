{
 "cells": [
  {
   "cell_type": "code",
   "execution_count": 1,
   "metadata": {},
   "outputs": [],
   "source": [
    "def calculate_ecoli_cells_from_od(od600):\n",
    "    \"\"\"\n",
    "    Estimate the number of E. coli cells per milliliter from the OD600.\n",
    "    \n",
    "    Parameters:\n",
    "    od600 (float): The optical density of the E. coli culture at 600 nm.\n",
    "    \n",
    "    Returns:\n",
    "    float: The estimated number of cells per milliliter.\n",
    "    \n",
    "    Note: The standard correlation used here is 1 OD600 unit = 8 x 10^8 cells/ml.\n",
    "    \"\"\"\n",
    "    # Standard correlation factor for E. coli at OD600\n",
    "    od_to_cells_conversion_factor = 8e8  # cells per ml\n",
    "    \n",
    "    # Calculate the number of cells\n",
    "    number_of_cells_per_ml = od600 * od_to_cells_conversion_factor\n",
    "    \n",
    "    return number_of_cells_per_ml\n",
    "\n",
    "def calculate_bny30a_cells_from_od(od600):\n",
    "    \"\"\"\n",
    "    Estimate the number of E. coli cells per milliliter from the OD600.\n",
    "    \n",
    "    Parameters:\n",
    "    od600 (float): The optical density of the E. coli culture at 600 nm.\n",
    "    \n",
    "    Returns:\n",
    "    float: The estimated number of cells per milliliter.\n",
    "    \n",
    "    Note: The standard correlation used here is 1 OD600 unit = 8 x 10^8 cells/ml.\n",
    "    \"\"\"\n",
    "    # Standard correlation factor for bNY30a C. crescentus  at OD600 is different \n",
    "    od_to_cells_conversion_factor = 4.14e8  # cells per ml\n",
    "    \n",
    "    # Calculate the number of cells\n",
    "    number_of_cells_per_ml = od600 * od_to\n",
    "    _cells_conversion_factor\n",
    "    \n",
    "    return number_of_cells_per_ml"
   ]
  },
  {
   "cell_type": "code",
   "execution_count": 3,
   "metadata": {},
   "outputs": [
    {
     "data": {
      "text/plain": [
       "82800000.0"
      ]
     },
     "execution_count": 3,
     "metadata": {},
     "output_type": "execute_result"
    },
    {
     "ename": "",
     "evalue": "",
     "output_type": "error",
     "traceback": [
      "\u001b[1;31mThe Kernel crashed while executing code in the the current cell or a previous cell. Please review the code in the cell(s) to identify a possible cause of the failure. Click <a href='https://aka.ms/vscodeJupyterKernelCrash'>here</a> for more info. View Jupyter <a href='command:jupyter.viewOutput'>log</a> for further details."
     ]
    }
   ],
   "source": [
    "\n",
    "\n",
    "# Example usage of the function\n",
    "od600_example = 0.5\n",
    "estimated_ecoli_cells = calculate_ecoli_cells_from_od(od600_example)\n",
    "estimated_ecoli_cells\n",
    "\n",
    "# Example usage of the function\n",
    "od600_bny30a = 0.2\n",
    "estimated_bny30a_cells = calculate_bny30a_cells_from_od(od600_bny30a)\n",
    "estimated_bny30a_cells\n"
   ]
  }
 ],
 "metadata": {
  "kernelspec": {
   "display_name": "stat_analysis",
   "language": "python",
   "name": "python3"
  },
  "language_info": {
   "codemirror_mode": {
    "name": "ipython",
    "version": 3
   },
   "file_extension": ".py",
   "mimetype": "text/x-python",
   "name": "python",
   "nbconvert_exporter": "python",
   "pygments_lexer": "ipython3",
   "version": "3.9.17"
  }
 },
 "nbformat": 4,
 "nbformat_minor": 2
}
