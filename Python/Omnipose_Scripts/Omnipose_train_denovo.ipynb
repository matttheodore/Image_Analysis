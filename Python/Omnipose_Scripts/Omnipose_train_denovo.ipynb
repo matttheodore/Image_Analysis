{
 "cells": [
  {
   "cell_type": "code",
   "execution_count": null,
   "metadata": {},
   "outputs": [],
   "source": []
  },
  {
   "cell_type": "markdown",
   "metadata": {},
   "source": [
    "# Omnipose Training and Retraining\n",
    "\n",
    "This Notebook is going to be used to set up a training environment for omnipose on the Nikon computer with GPU activated. \n",
    "\n",
    "*1. Train Using only our images*\n",
    "\n",
    "*2. Train Using our Images and Selected Images From Original Omnipose Dataset*\n",
    "\n",
    "*3. Retrain Using our Images.*\n",
    "\n",
    "I am going to try to clock the training time for each of these to udnerstand what is really required. \n"
   ]
  },
  {
   "cell_type": "markdown",
   "metadata": {},
   "source": [
    "#### Imports"
   ]
  },
  {
   "cell_type": "code",
   "execution_count": 1,
   "metadata": {},
   "outputs": [],
   "source": [
    "import os\n",
    "os.environ['KMP_DUPLICATE_LIB_OK'] = 'TRUE'\n"
   ]
  },
  {
   "cell_type": "code",
   "execution_count": 2,
   "metadata": {},
   "outputs": [
    {
     "name": "stderr",
     "output_type": "stream",
     "text": [
      "c:\\Users\\Nikon\\anaconda3\\envs\\omnipose\\lib\\site-packages\\torchvision\\io\\image.py:13: UserWarning: Failed to load image Python extension: '[WinError 127] The specified procedure could not be found'If you don't plan on using image functionality from `torchvision.io`, you can ignore this warning. Otherwise, there might be something wrong with your environment. Did you have `libjpeg` or `libpng` installed before building `torchvision` from source?\n",
      "  warn(\n",
      "c:\\Users\\Nikon\\anaconda3\\envs\\omnipose\\lib\\site-packages\\tqdm\\auto.py:21: TqdmWarning: IProgress not found. Please update jupyter and ipywidgets. See https://ipywidgets.readthedocs.io/en/stable/user_install.html\n",
      "  from .autonotebook import tqdm as notebook_tqdm\n"
     ]
    },
    {
     "name": "stdout",
     "output_type": "stream",
     "text": [
      "2023-10-31 14:24:23,190 [INFO] ** TORCH GPU version installed and working. **\n",
      ">>> GPU activated? 1\n"
     ]
    }
   ],
   "source": [
    "from pathlib import Path\n",
    "from cellpose_omni import plot, models, core, io, dynamics\n",
    "import omnipose, ncolor\n",
    "import skimage.io\n",
    "import numpy as np\n",
    "import matplotlib.pyplot as plt\n",
    "plt.style.use('dark_background')\n",
    "import matplotlib as mpl\n",
    "%matplotlib inline\n",
    "mpl.rcParams['figure.dpi'] = 300\n",
    "import time, os, sys\n",
    "from tifffile import imread\n",
    "use_GPU = core.use_gpu()\n",
    "print('>>> GPU activated? %d'%use_GPU)\n",
    "from stardist import fill_label_holes\n",
    "from cellpose_omni.models import CellposeModel\n"
   ]
  },
  {
   "cell_type": "markdown",
   "metadata": {},
   "source": [
    "## Data Loading\n"
   ]
  },
  {
   "cell_type": "code",
   "execution_count": 29,
   "metadata": {},
   "outputs": [
    {
     "ename": "NameError",
     "evalue": "name 'glob' is not defined",
     "output_type": "error",
     "traceback": [
      "\u001b[1;31m---------------------------------------------------------------------------\u001b[0m",
      "\u001b[1;31mNameError\u001b[0m                                 Traceback (most recent call last)",
      "\u001b[1;32mc:\\Users\\Nikon\\Downloads\\Omni\\Image_Analysis\\Python\\Omnipose_train_denovo.ipynb Cell 7\u001b[0m line \u001b[0;36m1\n\u001b[0;32m     <a href='vscode-notebook-cell:/c%3A/Users/Nikon/Downloads/Omni/Image_Analysis/Python/Omnipose_train_denovo.ipynb#W5sZmlsZQ%3D%3D?line=10'>11</a>\u001b[0m img_names \u001b[39m=\u001b[39m [\u001b[39mstr\u001b[39m(p) \u001b[39mfor\u001b[39;00m p \u001b[39min\u001b[39;00m Path(basedir)\u001b[39m.\u001b[39mglob(\u001b[39mf\u001b[39m\u001b[39m\"\u001b[39m\u001b[39m**/\u001b[39m\u001b[39m{\u001b[39;00mimg_extension\u001b[39m}\u001b[39;00m\u001b[39m\"\u001b[39m)]\n\u001b[0;32m     <a href='vscode-notebook-cell:/c%3A/Users/Nikon/Downloads/Omni/Image_Analysis/Python/Omnipose_train_denovo.ipynb#W5sZmlsZQ%3D%3D?line=11'>12</a>\u001b[0m mask_names \u001b[39m=\u001b[39m [\u001b[39mstr\u001b[39m(p) \u001b[39mfor\u001b[39;00m p \u001b[39min\u001b[39;00m Path(basedir)\u001b[39m.\u001b[39mglob(\u001b[39mf\u001b[39m\u001b[39m\"\u001b[39m\u001b[39m**/\u001b[39m\u001b[39m{\u001b[39;00mmask_extension\u001b[39m}\u001b[39;00m\u001b[39m\"\u001b[39m)]\n\u001b[1;32m---> <a href='vscode-notebook-cell:/c%3A/Users/Nikon/Downloads/Omni/Image_Analysis/Python/Omnipose_train_denovo.ipynb#W5sZmlsZQ%3D%3D?line=12'>13</a>\u001b[0m imgs_files \u001b[39m=\u001b[39m glob(os\u001b[39m.\u001b[39mpath\u001b[39m.\u001b[39mjoin(path, \u001b[39m\"\u001b[39m\u001b[39mImage*.tiff\u001b[39m\u001b[39m\"\u001b[39m))\n\u001b[0;32m     <a href='vscode-notebook-cell:/c%3A/Users/Nikon/Downloads/Omni/Image_Analysis/Python/Omnipose_train_denovo.ipynb#W5sZmlsZQ%3D%3D?line=13'>14</a>\u001b[0m lbls_files \u001b[39m=\u001b[39m [f\u001b[39m.\u001b[39mreplace(\u001b[39m\"\u001b[39m\u001b[39mImage\u001b[39m\u001b[39m\"\u001b[39m, \u001b[39m\"\u001b[39m\u001b[39msegm\u001b[39m\u001b[39m\"\u001b[39m)\u001b[39m.\u001b[39mreplace(\u001b[39m\"\u001b[39m\u001b[39mtiff\u001b[39m\u001b[39m\"\u001b[39m, \u001b[39m\"\u001b[39m\u001b[39mtif\u001b[39m\u001b[39m\"\u001b[39m) \u001b[39mfor\u001b[39;00m f \u001b[39min\u001b[39;00m imgs_files]\n",
      "\u001b[1;31mNameError\u001b[0m: name 'glob' is not defined"
     ]
    }
   ],
   "source": [
    "from pathlib import Path\n",
    "\n",
    "# Define the base directory and file extensions\n",
    "basedir = 'C:/Users/Nikon/Downloads/Omni/omni_retrain/'\n",
    "path = 'C:/Users/Nikon/Downloads/Omni/omni_retrain/'\n",
    "img_extension = \"*.tif\"\n",
    "mask_extension = \"*_cp_masks.png\"\n",
    "imgs_files = [str(p) for p in Path(path).glob(\"*.tif\")]\n",
    "lbls_files  = [str(p) for p in Path(path).glob(\"*.png\")]\n",
    "# Get image and mask file paths\n",
    "img_names = [str(p) for p in Path(basedir).glob(f\"**/{img_extension}\")]\n",
    "mask_names = [str(p) for p in Path(basedir).glob(f\"**/{mask_extension}\")]\n",
    "imgs_files = glob(os.path.join(path, \"Image*.tiff\"))\n",
    "lbls_files = [f.replace(\"Image\", \"segm\").replace(\"tiff\", \"tif\") for f in imgs_files]"
   ]
  },
  {
   "cell_type": "code",
   "execution_count": 22,
   "metadata": {},
   "outputs": [
    {
     "name": "stdout",
     "output_type": "stream",
     "text": [
      "12\n",
      "12\n",
      "['C:\\\\Users\\\\Nikon\\\\Downloads\\\\Omni\\\\omni_retrain\\\\20230812_LZ22225_10min_uninf.006\\\\phase-MAX-0001.tif', 'C:\\\\Users\\\\Nikon\\\\Downloads\\\\Omni\\\\omni_retrain\\\\20230812_LZ22225_10min_uninf.006\\\\phase-MAX-0002.tif', 'C:\\\\Users\\\\Nikon\\\\Downloads\\\\Omni\\\\omni_retrain\\\\20230812_LZ22225_10min_uninf.006\\\\phase-MAX-0004.tif', 'C:\\\\Users\\\\Nikon\\\\Downloads\\\\Omni\\\\omni_retrain\\\\20230812_LZ22225_10min_uninf.006\\\\phase-MAX-0006.tif', 'C:\\\\Users\\\\Nikon\\\\Downloads\\\\Omni\\\\omni_retrain\\\\20230812_LZ22225_10min_uninf.006\\\\phase-MAX-0007.tif', 'C:\\\\Users\\\\Nikon\\\\Downloads\\\\Omni\\\\omni_retrain\\\\20230812_LZ22225_10min_uninf.006\\\\phase-MAX-0008.tif', 'C:\\\\Users\\\\Nikon\\\\Downloads\\\\Omni\\\\omni_retrain\\\\20230812_LZ22225_10min_uninf.006\\\\phase-MAX-0009.tif', 'C:\\\\Users\\\\Nikon\\\\Downloads\\\\Omni\\\\omni_retrain\\\\20230812_LZ22225_10min_uninf.006\\\\phase-MAX-0010.tif', 'C:\\\\Users\\\\Nikon\\\\Downloads\\\\Omni\\\\omni_retrain\\\\20230812_LZ22225_10min_uninf.006\\\\phase-MAX-0011.tif', 'C:\\\\Users\\\\Nikon\\\\Downloads\\\\Omni\\\\omni_retrain\\\\20230812_LZ22225_10min_uninf.006\\\\phase-MAX-0021.tif', 'C:\\\\Users\\\\Nikon\\\\Downloads\\\\Omni\\\\omni_retrain\\\\20230926_LZ22229_10min_inf.003\\\\phase-MAX-0007second.tif', 'C:\\\\Users\\\\Nikon\\\\Downloads\\\\Omni\\\\omni_retrain\\\\20230926_LZ22229_10min_inf.003\\\\phase-MAX-0011second.tif']\n",
      "['C:\\\\Users\\\\Nikon\\\\Downloads\\\\Omni\\\\omni_retrain\\\\20230812_LZ22225_10min_uninf.006\\\\phase-MAX-0001_cp_masks.png', 'C:\\\\Users\\\\Nikon\\\\Downloads\\\\Omni\\\\omni_retrain\\\\20230812_LZ22225_10min_uninf.006\\\\phase-MAX-0002_cp_masks.png', 'C:\\\\Users\\\\Nikon\\\\Downloads\\\\Omni\\\\omni_retrain\\\\20230812_LZ22225_10min_uninf.006\\\\phase-MAX-0004_cp_masks.png', 'C:\\\\Users\\\\Nikon\\\\Downloads\\\\Omni\\\\omni_retrain\\\\20230812_LZ22225_10min_uninf.006\\\\phase-MAX-0006_cp_masks.png', 'C:\\\\Users\\\\Nikon\\\\Downloads\\\\Omni\\\\omni_retrain\\\\20230812_LZ22225_10min_uninf.006\\\\phase-MAX-0007_cp_masks.png', 'C:\\\\Users\\\\Nikon\\\\Downloads\\\\Omni\\\\omni_retrain\\\\20230812_LZ22225_10min_uninf.006\\\\phase-MAX-0008_cp_masks.png', 'C:\\\\Users\\\\Nikon\\\\Downloads\\\\Omni\\\\omni_retrain\\\\20230812_LZ22225_10min_uninf.006\\\\phase-MAX-0009_cp_masks.png', 'C:\\\\Users\\\\Nikon\\\\Downloads\\\\Omni\\\\omni_retrain\\\\20230812_LZ22225_10min_uninf.006\\\\phase-MAX-0010_cp_masks.png', 'C:\\\\Users\\\\Nikon\\\\Downloads\\\\Omni\\\\omni_retrain\\\\20230812_LZ22225_10min_uninf.006\\\\phase-MAX-0011_cp_masks.png', 'C:\\\\Users\\\\Nikon\\\\Downloads\\\\Omni\\\\omni_retrain\\\\20230812_LZ22225_10min_uninf.006\\\\phase-MAX-0021_cp_masks.png', 'C:\\\\Users\\\\Nikon\\\\Downloads\\\\Omni\\\\omni_retrain\\\\20230926_LZ22229_10min_inf.003\\\\phase-MAX-0007second_cp_masks.png', 'C:\\\\Users\\\\Nikon\\\\Downloads\\\\Omni\\\\omni_retrain\\\\20230926_LZ22229_10min_inf.003\\\\phase-MAX-0011second_cp_masks.png']\n",
      "True\n",
      "True\n",
      "{'phase-MAX-0011second', 'phase-MAX-0009', 'phase-MAX-0008', 'phase-MAX-0006', 'phase-MAX-0001', 'phase-MAX-0010', 'phase-MAX-0021', 'phase-MAX-0011', 'phase-MAX-0007', 'phase-MAX-0002', 'phase-MAX-0004', 'phase-MAX-0007second'}\n"
     ]
    }
   ],
   "source": [
    "# Checking to make sure I have the files correctly\n",
    "\n",
    "img_basenames = [os.path.basename(os.path.splitext(name)[0]) for name in img_names]\n",
    "mask_basenames = [os.path.basename(os.path.splitext(name)[0]).replace('_cp_masks', '') for name in mask_names]\n",
    "\n",
    "matching_pairs = set(img_basenames).intersection(set(mask_basenames))\n",
    "\n",
    "is_img_sorted = img_names == sorted(img_names)\n",
    "is_mask_sorted = mask_names == sorted(mask_names)\n",
    "\n",
    "print(len(img_names))\n",
    "print(len(mask_names))\n",
    "print((img_names))\n",
    "print((mask_names))\n",
    "print(is_img_sorted)\n",
    "print(is_mask_sorted)\n",
    "print(matching_pairs)\n",
    "\n"
   ]
  },
  {
   "cell_type": "code",
   "execution_count": 27,
   "metadata": {},
   "outputs": [
    {
     "ename": "NameError",
     "evalue": "name 'imgs_files' is not defined",
     "output_type": "error",
     "traceback": [
      "\u001b[1;31m---------------------------------------------------------------------------\u001b[0m",
      "\u001b[1;31mNameError\u001b[0m                                 Traceback (most recent call last)",
      "\u001b[1;32mc:\\Users\\Nikon\\Downloads\\Omni\\Image_Analysis\\Python\\Omnipose_train_denovo.ipynb Cell 9\u001b[0m line \u001b[0;36m1\n\u001b[0;32m      <a href='vscode-notebook-cell:/c%3A/Users/Nikon/Downloads/Omni/Image_Analysis/Python/Omnipose_train_denovo.ipynb#X20sZmlsZQ%3D%3D?line=7'>8</a>\u001b[0m imgs \u001b[39m=\u001b[39m [skimage\u001b[39m.\u001b[39mio\u001b[39m.\u001b[39mimread(f) \u001b[39mfor\u001b[39;00m f \u001b[39min\u001b[39;00m img_names]\n\u001b[0;32m      <a href='vscode-notebook-cell:/c%3A/Users/Nikon/Downloads/Omni/Image_Analysis/Python/Omnipose_train_denovo.ipynb#X20sZmlsZQ%3D%3D?line=8'>9</a>\u001b[0m lbls \u001b[39m=\u001b[39m [ncolor\u001b[39m.\u001b[39mformat_labels(omnipose\u001b[39m.\u001b[39mutils\u001b[39m.\u001b[39mclean_boundary(skimage\u001b[39m.\u001b[39mio\u001b[39m.\u001b[39mimread(f))) \u001b[39mfor\u001b[39;00m f \u001b[39min\u001b[39;00m mask_names]\n\u001b[1;32m---> <a href='vscode-notebook-cell:/c%3A/Users/Nikon/Downloads/Omni/Image_Analysis/Python/Omnipose_train_denovo.ipynb#X20sZmlsZQ%3D%3D?line=10'>11</a>\u001b[0m imgs \u001b[39m=\u001b[39m [skimage\u001b[39m.\u001b[39mio\u001b[39m.\u001b[39mimread(f)[np\u001b[39m.\u001b[39mnewaxis, \u001b[39m.\u001b[39m\u001b[39m.\u001b[39m\u001b[39m.\u001b[39m] \u001b[39mfor\u001b[39;00m f \u001b[39min\u001b[39;00m imgs_files]\n\u001b[0;32m     <a href='vscode-notebook-cell:/c%3A/Users/Nikon/Downloads/Omni/Image_Analysis/Python/Omnipose_train_denovo.ipynb#X20sZmlsZQ%3D%3D?line=11'>12</a>\u001b[0m lbls \u001b[39m=\u001b[39m [fill_label_holes(skimage\u001b[39m.\u001b[39mio\u001b[39m.\u001b[39mimread(f)) \u001b[39mfor\u001b[39;00m f \u001b[39min\u001b[39;00m lbls_files]\n\u001b[0;32m     <a href='vscode-notebook-cell:/c%3A/Users/Nikon/Downloads/Omni/Image_Analysis/Python/Omnipose_train_denovo.ipynb#X20sZmlsZQ%3D%3D?line=12'>13</a>\u001b[0m \u001b[39mprint\u001b[39m(\u001b[39m\"\u001b[39m\u001b[39mimgs: \u001b[39m\u001b[39m\"\u001b[39m, [i\u001b[39m.\u001b[39mshape \u001b[39mfor\u001b[39;00m i \u001b[39min\u001b[39;00m imgs])\n",
      "\u001b[1;31mNameError\u001b[0m: name 'imgs_files' is not defined"
     ]
    }
   ],
   "source": [
    "# Obviously sorting the masks by corresponding base name is critical. The different suffixes mess this up, but sorted()\n",
    "# can take a function like the one below as a key. Modifying the default suffix requires the lambda syntax (e.g. cellpose). \n",
    "def getname(path,suffix='_masks'):\n",
    "    return os.path.splitext(Path(path).name)[0].replace(suffix,'')\n",
    "\n",
    "mask_names = sorted(mask_names,key=getname)\n",
    "img_names = sorted(img_names,key=getname)\n",
    "imgs = [skimage.io.imread(f) for f in img_names]\n",
    "lbls = [ncolor.format_labels(omnipose.utils.clean_boundary(skimage.io.imread(f))) for f in mask_names]\n",
    "\n",
    "imgs = [skimage.io.imread(f)[np.newaxis, ...] for f in imgs_files]\n",
    "lbls = [fill_label_holes(skimage.io.imread(f)) for f in lbls_files]\n",
    "print(\"imgs: \", [i.shape for i in imgs])\n",
    "print(\"lbls: \", [i.shape for i in lbls])\n",
    "\n",
    "model = CellposeModel(\n",
    "    gpu=True, omni=True, nclasses=4, nchan=1, diam_mean=0,\n",
    ")"
   ]
  },
  {
   "cell_type": "markdown",
   "metadata": {},
   "source": [
    "## Ok Good checks, now hweres how you run"
   ]
  },
  {
   "cell_type": "markdown",
   "metadata": {},
   "source": [
    "To run the training command via CLI, you have several options, but the general idea is to open a terminal window where Python and the required libraries are accessible. Here's a step-by-step guide tailored to your specific needs:\n",
    "\n",
    "### Using Anaconda Terminal (Recommended for Anaconda Users)\n",
    "\n",
    "1. **Open Anaconda Navigator**: This is the GUI that Anaconda provides. From here, you can launch various applications, including terminals with specific environments.\n",
    "\n",
    "2. **Launch Terminal**: Navigate to the \"Environments\" tab and locate the environment where you have installed the relevant packages (e.g., `omnipose`, `cellpose`, etc.). Click on the \"play\" button next to it and choose \"Open Terminal.\"\n",
    "\n",
    "3. **Navigate to Working Directory**: Use the `cd` command to navigate to the directory where your data is stored. For example:\n",
    "    ```bash\n",
    "    cd \"C:/Users/Nikon/Downloads/Omni/omni_retrain/\"\n",
    "    ```\n",
    "\n",
    "4. **Run Command**: Paste and run the training command you've constructed.\n",
    "\n",
    "### Using Windows CMD\n",
    "\n",
    "1. **Open Command Prompt**: You can do this by searching for \"cmd\" in the Windows search bar.\n",
    "\n",
    "2. **Activate Anaconda Environment**: If you're using Anaconda, you'll need to activate the environment where you've installed the required packages. The command is usually:\n",
    "    ```bash\n",
    "    conda activate your_environment_name\n",
    "    ```\n",
    "\n",
    "3. **Navigate to Working Directory**: Similar to the Anaconda terminal, use the `cd` command.\n",
    "\n",
    "4. **Run Command**: Paste and run the training command.\n",
    "\n",
    "### Using a `.py` File (Optional)\n",
    "\n",
    "If you find yourself running this command frequently, you might want to save it in a Python script (`*.py`) file. This way, you can simply run the script each time, rather than pasting the command.\n",
    "\n",
    "1. **Create a `.py` File**: You can do this in any text editor. Save it in the directory where your data is stored.\n",
    "\n",
    "2. **Paste Command**: Convert the CLI command into Python code using the `os.system()` function from the `os` library. For example:\n",
    "    ```python\n",
    "    import os\n",
    "\n",
    "    os.system(\"your_entire_command_here\")\n",
    "    ```\n",
    "\n",
    "3. **Run Script**: Navigate to the directory where the `.py` file is stored and run:\n",
    "    ```bash\n",
    "    python your_script_name.py\n",
    "    ```\n",
    "\n",
    "Choose the method that you find most convenient. The Anaconda terminal is often the easiest if you're using an Anaconda-managed Python environment, as it ensures that all the dependencies are correctly set up."
   ]
  },
  {
   "cell_type": "code",
   "execution_count": null,
   "metadata": {},
   "outputs": [],
   "source": [
    "omnipose --train --use_gpu --dir \"C:/Users/Nikon/Downloads/Omni/omni_retrain/\" \\\n",
    "         --img_filter \".tif\" --mask_filter \"_cp_masks.png\" \\\n",
    "         --nchan 1 --all_channels --channel_axis 0 \\\n",
    "         --pretrained_model None --diameter 0 --nclasses 3 \\\n",
    "         --learning_rate 0.1 --RAdam --batch_size 16 --n_epochs 400 \\\n",
    "         --look_one_level_down\n"
   ]
  },
  {
   "cell_type": "code",
   "execution_count": 23,
   "metadata": {},
   "outputs": [
    {
     "ename": "NameError",
     "evalue": "name 'model' is not defined",
     "output_type": "error",
     "traceback": [
      "\u001b[1;31m---------------------------------------------------------------------------\u001b[0m",
      "\u001b[1;31mNameError\u001b[0m                                 Traceback (most recent call last)",
      "\u001b[1;32mc:\\Users\\Nikon\\Downloads\\Omni\\Image_Analysis\\Python\\Omnipose_train_denovo.ipynb Cell 12\u001b[0m line \u001b[0;36m2\n\u001b[0;32m      <a href='vscode-notebook-cell:/c%3A/Users/Nikon/Downloads/Omni/Image_Analysis/Python/Omnipose_train_denovo.ipynb#W6sZmlsZQ%3D%3D?line=0'>1</a>\u001b[0m n \u001b[39m=\u001b[39m [\u001b[39m0\u001b[39m, \u001b[39m1\u001b[39m]\n\u001b[1;32m----> <a href='vscode-notebook-cell:/c%3A/Users/Nikon/Downloads/Omni/Image_Analysis/Python/Omnipose_train_denovo.ipynb#W6sZmlsZQ%3D%3D?line=1'>2</a>\u001b[0m model\u001b[39m.\u001b[39mtrain(\n\u001b[0;32m      <a href='vscode-notebook-cell:/c%3A/Users/Nikon/Downloads/Omni/Image_Analysis/Python/Omnipose_train_denovo.ipynb#W6sZmlsZQ%3D%3D?line=2'>3</a>\u001b[0m   [imgs[i] \u001b[39mfor\u001b[39;00m i \u001b[39min\u001b[39;00m n], [lbls[i] \u001b[39mfor\u001b[39;00m i \u001b[39min\u001b[39;00m n], \n\u001b[0;32m      <a href='vscode-notebook-cell:/c%3A/Users/Nikon/Downloads/Omni/Image_Analysis/Python/Omnipose_train_denovo.ipynb#W6sZmlsZQ%3D%3D?line=3'>4</a>\u001b[0m   save_every\u001b[39m=\u001b[39m\u001b[39m1\u001b[39m, \n\u001b[0;32m      <a href='vscode-notebook-cell:/c%3A/Users/Nikon/Downloads/Omni/Image_Analysis/Python/Omnipose_train_denovo.ipynb#W6sZmlsZQ%3D%3D?line=4'>5</a>\u001b[0m   n_epochs\u001b[39m=\u001b[39m\u001b[39m400\u001b[39m, \n\u001b[0;32m      <a href='vscode-notebook-cell:/c%3A/Users/Nikon/Downloads/Omni/Image_Analysis/Python/Omnipose_train_denovo.ipynb#W6sZmlsZQ%3D%3D?line=5'>6</a>\u001b[0m   batch_size\u001b[39m=\u001b[39m\u001b[39m16\u001b[39m, \n\u001b[0;32m      <a href='vscode-notebook-cell:/c%3A/Users/Nikon/Downloads/Omni/Image_Analysis/Python/Omnipose_train_denovo.ipynb#W6sZmlsZQ%3D%3D?line=6'>7</a>\u001b[0m   save_path\u001b[39m=\u001b[39mos\u001b[39m.\u001b[39mpath\u001b[39m.\u001b[39mjoin(basedir, \u001b[39m'\u001b[39m\u001b[39mnewtrain_fishonly\u001b[39m\u001b[39m'\u001b[39m),\n\u001b[0;32m      <a href='vscode-notebook-cell:/c%3A/Users/Nikon/Downloads/Omni/Image_Analysis/Python/Omnipose_train_denovo.ipynb#W6sZmlsZQ%3D%3D?line=7'>8</a>\u001b[0m   channels\u001b[39m=\u001b[39m[\u001b[39m0\u001b[39m, \u001b[39m0\u001b[39m], \n\u001b[0;32m      <a href='vscode-notebook-cell:/c%3A/Users/Nikon/Downloads/Omni/Image_Analysis/Python/Omnipose_train_denovo.ipynb#W6sZmlsZQ%3D%3D?line=8'>9</a>\u001b[0m   min_train_masks\u001b[39m=\u001b[39m\u001b[39m1\u001b[39m, \n\u001b[0;32m     <a href='vscode-notebook-cell:/c%3A/Users/Nikon/Downloads/Omni/Image_Analysis/Python/Omnipose_train_denovo.ipynb#W6sZmlsZQ%3D%3D?line=9'>10</a>\u001b[0m   rescale\u001b[39m=\u001b[39m\u001b[39m0\u001b[39m\n\u001b[0;32m     <a href='vscode-notebook-cell:/c%3A/Users/Nikon/Downloads/Omni/Image_Analysis/Python/Omnipose_train_denovo.ipynb#W6sZmlsZQ%3D%3D?line=10'>11</a>\u001b[0m )\n",
      "\u001b[1;31mNameError\u001b[0m: name 'model' is not defined"
     ]
    }
   ],
   "source": [
    "n = [0, 1]\n",
    "model.train(\n",
    "  [imgs[i] for i in n], [lbls[i] for i in n], \n",
    "  save_every=1, \n",
    "  n_epochs=400, \n",
    "  batch_size=16, \n",
    "  save_path=os.path.join(basedir, 'newtrain_fishonly'),\n",
    "  channels=[0, 0], \n",
    "  min_train_masks=1, \n",
    "  rescale=0\n",
    ")\n"
   ]
  },
  {
   "cell_type": "code",
   "execution_count": null,
   "metadata": {},
   "outputs": [],
   "source": []
  },
  {
   "cell_type": "code",
   "execution_count": 1,
   "metadata": {},
   "outputs": [
    {
     "name": "stdout",
     "output_type": "stream",
     "text": [
      "$KMP_DUPLICATE_LIB_OK\n"
     ]
    }
   ],
   "source": [
    "!echo $KMP_DUPLICATE_LIB_OK"
   ]
  }
 ],
 "metadata": {
  "kernelspec": {
   "display_name": "omnipose",
   "language": "python",
   "name": "python3"
  },
  "language_info": {
   "codemirror_mode": {
    "name": "ipython",
    "version": 3
   },
   "file_extension": ".py",
   "mimetype": "text/x-python",
   "name": "python",
   "nbconvert_exporter": "python",
   "pygments_lexer": "ipython3",
   "version": "3.10.12"
  }
 },
 "nbformat": 4,
 "nbformat_minor": 2
}
