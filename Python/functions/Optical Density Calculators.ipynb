{
 "cells": [
  {
   "cell_type": "code",
   "execution_count": 4,
   "metadata": {},
   "outputs": [],
   "source": [
    "def calculate_ecoli_cells_from_od(od600):\n",
    "    \"\"\"\n",
    "    Estimate the number of E. coli cells per milliliter from the OD600.\n",
    "    \n",
    "    Parameters:\n",
    "    od600 (float): The optical density of the E. coli culture at 600 nm.\n",
    "    \n",
    "    Returns:\n",
    "    float: The estimated number of cells per milliliter.\n",
    "    \n",
    "    Note: The standard correlation used here is 1 OD600 unit = 8 x 10^8 cells/ml.\n",
    "    \"\"\"\n",
    "    # Standard correlation factor for E. coli at OD600\n",
    "    od_to_cells_conversion_factor = 8e8  # cells per ml\n",
    "    \n",
    "    # Calculate the number of cells\n",
    "    number_of_cells_per_ml = od600 * od_to_cells_conversion_factor\n",
    "    \n",
    "    return number_of_cells_per_ml\n",
    "\n",
    "def calculate_bny30a_cells_from_od(od600):\n",
    "    \"\"\"\n",
    "    Estimate the number of E. coli cells per milliliter from the OD600.\n",
    "    \n",
    "    Parameters:\n",
    "    od600 (float): The optical density of the E. coli culture at 600 nm.\n",
    "    \n",
    "    Returns:\n",
    "    float: The estimated number of cells per milliliter.\n",
    "    \n",
    "    Note: The standard correlation used here is 1 OD600 unit = 8 x 10^8 cells/ml.\n",
    "    \"\"\"\n",
    "    # Standard correlation factor for bNY30a C. crescentus  at OD600 is different \n",
    "    od_to_cells_conversion_factor = 4.14e8  # cells per 1 OD Unit\n",
    "    \n",
    "    # Calculate the number of cells\n",
    "    number_of_cells_per_ml = od600 * od_to_cells_conversion_factor\n",
    "    \n",
    "    return number_of_cells_per_ml"
   ]
  },
  {
   "cell_type": "code",
   "execution_count": 5,
   "metadata": {},
   "outputs": [
    {
     "data": {
      "text/plain": [
       "82800000.0"
      ]
     },
     "execution_count": 5,
     "metadata": {},
     "output_type": "execute_result"
    }
   ],
   "source": [
    "\n",
    "\n",
    "# Example usage of the function\n",
    "od600_example = 0.5\n",
    "estimated_ecoli_cells = calculate_ecoli_cells_from_od(od600_example)\n",
    "estimated_ecoli_cells\n",
    "\n",
    "# Example usage of the function\n",
    "od600_bny30a = 0.2\n",
    "estimated_bny30a_cells = calculate_bny30a_cells_from_od(od600_bny30a)\n",
    "estimated_bny30a_cells\n"
   ]
  },
  {
   "cell_type": "markdown",
   "metadata": {},
   "source": [
    "### MOI Calculation C Crescentus\n"
   ]
  },
  {
   "cell_type": "code",
   "execution_count": 8,
   "metadata": {},
   "outputs": [
    {
     "data": {
      "text/plain": [
       "('2.07e+07', '2.07e+08', '4.14e+10')"
      ]
     },
     "execution_count": 8,
     "metadata": {},
     "output_type": "execute_result"
    }
   ],
   "source": [
    "# Given conversion for C. crescentus\n",
    "cells_per_ml_per_od = 4.14e8  # Cells per 1 OD unit for C. crescentus\n",
    "\n",
    "# OD600 value for the culture\n",
    "od_value = 0.1\n",
    "\n",
    "# Calculate the number of C. crescentus cells in the culture\n",
    "number_of_cells = od_value * cells_per_ml_per_od * 0.5  # 0.5 mL of culture\n",
    "\n",
    "# Calculate the total number of phages needed with an MOI of 10\n",
    "total_phages_needed_c_crescentus = number_of_cells * 10\n",
    "\n",
    "# Calculate the required pfu/mL for 5 microliters to contain the necessary phages\n",
    "pfu_per_ml_c_crescentus = total_phages_needed_c_crescentus / (5 / 1000)  # Volume in mL (5 microliters)\n",
    "\n",
    "number_of_cells, total_phages_needed_c_crescentus, pfu_per_ml_c_crescentus\n",
    "\n",
    "# Format the previous results in scientific notation with two decimal places\n",
    "number_of_cells_formatted = f'{number_of_cells:.2e}'\n",
    "total_phages_needed_formatted = f'{total_phages_needed_c_crescentus:.2e}'\n",
    "pfu_per_ml_formatted = f'{pfu_per_ml_c_crescentus:.2e}'\n",
    "\n",
    "number_of_cells_formatted, total_phages_needed_formatted, pfu_per_ml_formatted\n"
   ]
  }
 ],
 "metadata": {
  "kernelspec": {
   "display_name": "stat_analysis",
   "language": "python",
   "name": "python3"
  },
  "language_info": {
   "codemirror_mode": {
    "name": "ipython",
    "version": 3
   },
   "file_extension": ".py",
   "mimetype": "text/x-python",
   "name": "python",
   "nbconvert_exporter": "python",
   "pygments_lexer": "ipython3",
   "version": "3.9.17"
  }
 },
 "nbformat": 4,
 "nbformat_minor": 2
}
