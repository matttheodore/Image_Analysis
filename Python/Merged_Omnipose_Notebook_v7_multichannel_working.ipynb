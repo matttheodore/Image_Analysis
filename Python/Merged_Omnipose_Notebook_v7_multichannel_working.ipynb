{
 "cells": [
  {
   "cell_type": "markdown",
   "id": "994b18f4",
   "metadata": {},
   "source": [
    "This notebook combines the setup and image processing scripts for Omnipose, following the recommended installation procedures for Jupyter environments."
   ]
  },
  {
   "cell_type": "markdown",
   "id": "a0e407d7",
   "metadata": {},
   "source": [
    "This notebook sets up the required dependencies for Omnipose using a conda virtual environment."
   ]
  },
  {
   "cell_type": "code",
   "execution_count": null,
   "id": "aa275ac5",
   "metadata": {},
   "outputs": [],
   "source": [
    "# Create a new conda virtual environment named 'omnipose_env'\n",
    "#!conda create --name omnipose_env python=3.9.13\n",
    "\n",
    "# Activate the virtual environment\n",
    "!conda activate omnipose_env\n",
    "\n",
    "# Install the required dependencies\n",
    "#%conda install -c conda-forge pytest pathlib scikit-image\n",
    "\n",
    "# Note: 'omnipose' might need to be installed through pip or other means if it's not available in conda channels\n",
    "#!pip install omnipose\n"
   ]
  },
  {
   "cell_type": "markdown",
   "id": "3c128901",
   "metadata": {},
   "source": [
    "The following section contains the Omnipose image processing code."
   ]
  },
  {
   "cell_type": "code",
   "execution_count": 1,
   "id": "c66fb311",
   "metadata": {},
   "outputs": [
    {
     "ename": "ImportError",
     "evalue": "Numba needs NumPy 1.24 or less",
     "output_type": "error",
     "traceback": [
      "\u001b[1;31m---------------------------------------------------------------------------\u001b[0m",
      "\u001b[1;31mImportError\u001b[0m                               Traceback (most recent call last)",
      "Cell \u001b[1;32mIn[1], line 3\u001b[0m\n\u001b[0;32m      1\u001b[0m \u001b[39m# Import dependencies\u001b[39;00m\n\u001b[0;32m      2\u001b[0m \u001b[39mimport\u001b[39;00m \u001b[39mnumpy\u001b[39;00m \u001b[39mas\u001b[39;00m \u001b[39mnp\u001b[39;00m\n\u001b[1;32m----> 3\u001b[0m \u001b[39mfrom\u001b[39;00m \u001b[39mcellpose_omni\u001b[39;00m \u001b[39mimport\u001b[39;00m models, core\n\u001b[0;32m      5\u001b[0m \u001b[39m# This checks to see if you have set up your GPU properly.\u001b[39;00m\n\u001b[0;32m      6\u001b[0m \u001b[39m# CPU performance is a lot slower, but not a problem if you \u001b[39;00m\n\u001b[0;32m      7\u001b[0m \u001b[39m# are only processing a few images.\u001b[39;00m\n\u001b[0;32m      8\u001b[0m use_GPU \u001b[39m=\u001b[39m core\u001b[39m.\u001b[39muse_gpu()\n",
      "File \u001b[1;32mc:\\Users\\MicrobeJ\\anaconda3\\envs\\omnipose_env\\Lib\\site-packages\\cellpose_omni\\__init__.py:1\u001b[0m\n\u001b[1;32m----> 1\u001b[0m \u001b[39mfrom\u001b[39;00m \u001b[39m.\u001b[39;00m \u001b[39mimport\u001b[39;00m core\n\u001b[0;32m      2\u001b[0m \u001b[39mfrom\u001b[39;00m \u001b[39m.\u001b[39;00m \u001b[39mimport\u001b[39;00m utils\n\u001b[0;32m      3\u001b[0m \u001b[39mfrom\u001b[39;00m \u001b[39m.\u001b[39;00m\u001b[39m__main__\u001b[39;00m \u001b[39mimport\u001b[39;00m main\n",
      "File \u001b[1;32mc:\\Users\\MicrobeJ\\anaconda3\\envs\\omnipose_env\\Lib\\site-packages\\cellpose_omni\\core.py:9\u001b[0m\n\u001b[0;32m      7\u001b[0m \u001b[39mimport\u001b[39;00m \u001b[39mcv2\u001b[39;00m\n\u001b[0;32m      8\u001b[0m \u001b[39mfrom\u001b[39;00m \u001b[39mscipy\u001b[39;00m\u001b[39m.\u001b[39;00m\u001b[39mstats\u001b[39;00m \u001b[39mimport\u001b[39;00m mode\n\u001b[1;32m----> 9\u001b[0m \u001b[39mfrom\u001b[39;00m \u001b[39m.\u001b[39;00m \u001b[39mimport\u001b[39;00m transforms, dynamics, utils, metrics, io\n\u001b[0;32m     12\u001b[0m \u001b[39m# from focal_loss.focal_loss import FocalLoss\u001b[39;00m\n\u001b[0;32m     15\u001b[0m \u001b[39mtry\u001b[39;00m:\n",
      "File \u001b[1;32mc:\\Users\\MicrobeJ\\anaconda3\\envs\\omnipose_env\\Lib\\site-packages\\cellpose_omni\\transforms.py:8\u001b[0m\n\u001b[0;32m      5\u001b[0m \u001b[39mimport\u001b[39;00m \u001b[39mlogging\u001b[39;00m\n\u001b[0;32m      6\u001b[0m transforms_logger \u001b[39m=\u001b[39m logging\u001b[39m.\u001b[39mgetLogger(\u001b[39m__name__\u001b[39m)\n\u001b[1;32m----> 8\u001b[0m \u001b[39mfrom\u001b[39;00m \u001b[39m.\u001b[39;00m \u001b[39mimport\u001b[39;00m dynamics, utils\n\u001b[0;32m      9\u001b[0m \u001b[39mimport\u001b[39;00m \u001b[39mitertools\u001b[39;00m \u001b[39m# ND tiling\u001b[39;00m\n\u001b[0;32m     11\u001b[0m \u001b[39m# import omnipose, edt, fastremap\u001b[39;00m\n\u001b[0;32m     12\u001b[0m \u001b[39m# OMNI_INSTALLED = True\u001b[39;00m\n",
      "File \u001b[1;32mc:\\Users\\MicrobeJ\\anaconda3\\envs\\omnipose_env\\Lib\\site-packages\\cellpose_omni\\dynamics.py:7\u001b[0m\n\u001b[0;32m      5\u001b[0m \u001b[39mimport\u001b[39;00m \u001b[39mtifffile\u001b[39;00m\n\u001b[0;32m      6\u001b[0m \u001b[39mfrom\u001b[39;00m \u001b[39mtqdm\u001b[39;00m \u001b[39mimport\u001b[39;00m trange\n\u001b[1;32m----> 7\u001b[0m \u001b[39mfrom\u001b[39;00m \u001b[39mnumba\u001b[39;00m \u001b[39mimport\u001b[39;00m njit, float32, int32, vectorize\n\u001b[0;32m      8\u001b[0m \u001b[39mimport\u001b[39;00m \u001b[39mcv2\u001b[39;00m\n\u001b[0;32m      9\u001b[0m \u001b[39mimport\u001b[39;00m \u001b[39mfastremap\u001b[39;00m\n",
      "File \u001b[1;32mc:\\Users\\MicrobeJ\\anaconda3\\envs\\omnipose_env\\Lib\\site-packages\\numba\\__init__.py:55\u001b[0m\n\u001b[0;32m     50\u001b[0m             msg \u001b[39m=\u001b[39m (\u001b[39m\"\u001b[39m\u001b[39mNumba requires SciPy version 1.0 or greater. Got SciPy \u001b[39m\u001b[39m\"\u001b[39m\n\u001b[0;32m     51\u001b[0m                    \u001b[39mf\u001b[39m\u001b[39m\"\u001b[39m\u001b[39m{\u001b[39;00mscipy\u001b[39m.\u001b[39m__version__\u001b[39m}\u001b[39;00m\u001b[39m.\u001b[39m\u001b[39m\"\u001b[39m)\n\u001b[0;32m     52\u001b[0m             \u001b[39mraise\u001b[39;00m \u001b[39mImportError\u001b[39;00m(msg)\n\u001b[1;32m---> 55\u001b[0m _ensure_critical_deps()\n\u001b[0;32m     56\u001b[0m \u001b[39m# END DO NOT MOVE\u001b[39;00m\n\u001b[0;32m     57\u001b[0m \u001b[39m# ---------------------- WARNING WARNING WARNING ----------------------------\u001b[39;00m\n\u001b[0;32m     60\u001b[0m \u001b[39mfrom\u001b[39;00m \u001b[39m.\u001b[39;00m\u001b[39m_version\u001b[39;00m \u001b[39mimport\u001b[39;00m get_versions\n",
      "File \u001b[1;32mc:\\Users\\MicrobeJ\\anaconda3\\envs\\omnipose_env\\Lib\\site-packages\\numba\\__init__.py:42\u001b[0m, in \u001b[0;36m_ensure_critical_deps\u001b[1;34m()\u001b[0m\n\u001b[0;32m     40\u001b[0m     \u001b[39mraise\u001b[39;00m \u001b[39mImportError\u001b[39;00m(msg)\n\u001b[0;32m     41\u001b[0m \u001b[39melif\u001b[39;00m numpy_version \u001b[39m>\u001b[39m (\u001b[39m1\u001b[39m, \u001b[39m24\u001b[39m):\n\u001b[1;32m---> 42\u001b[0m     \u001b[39mraise\u001b[39;00m \u001b[39mImportError\u001b[39;00m(\u001b[39m\"\u001b[39m\u001b[39mNumba needs NumPy 1.24 or less\u001b[39m\u001b[39m\"\u001b[39m)\n\u001b[0;32m     43\u001b[0m \u001b[39mtry\u001b[39;00m:\n\u001b[0;32m     44\u001b[0m     \u001b[39mimport\u001b[39;00m \u001b[39mscipy\u001b[39;00m\n",
      "\u001b[1;31mImportError\u001b[0m: Numba needs NumPy 1.24 or less"
     ]
    }
   ],
   "source": [
    "# Import dependencies\n",
    "import numpy as np\n",
    "from cellpose_omni import models, core\n",
    "\n",
    "# This checks to see if you have set up your GPU properly.\n",
    "# CPU performance is a lot slower, but not a problem if you \n",
    "# are only processing a few images.\n",
    "use_GPU = core.use_gpu()\n",
    "print('>>> GPU activated? {}'.format(use_GPU))\n",
    "\n",
    "# for plotting\n",
    "import matplotlib as mpl\n",
    "import matplotlib.pyplot as plt\n",
    "mpl.rcParams['figure.dpi'] = 300\n",
    "plt.style.use('dark_background')\n"
   ]
  },
  {
   "cell_type": "markdown",
   "id": "16d1b5f7",
   "metadata": {},
   "source": [
    "Now that I have everything set up I need to load my images, which can be done in a variety of ways but here we will save them as variable \"files\" by importing a path and then matching file names with extensions and keywords\n",
    "\n"
   ]
  },
  {
   "cell_type": "code",
   "execution_count": 2,
   "id": "3ab7b677",
   "metadata": {},
   "outputs": [
    {
     "ename": "ImportError",
     "evalue": "Numba needs NumPy 1.24 or less",
     "output_type": "error",
     "traceback": [
      "\u001b[1;31m---------------------------------------------------------------------------\u001b[0m",
      "\u001b[1;31mImportError\u001b[0m                               Traceback (most recent call last)",
      "Cell \u001b[1;32mIn[2], line 6\u001b[0m\n\u001b[0;32m      3\u001b[0m basedir \u001b[39m=\u001b[39m \u001b[39mr\u001b[39m\u001b[39m'\u001b[39m\u001b[39mC:\u001b[39m\u001b[39m\\\u001b[39m\u001b[39mUsers\u001b[39m\u001b[39m\\\u001b[39m\u001b[39mMicrobeJ\u001b[39m\u001b[39m\\\u001b[39m\u001b[39mDownloads\u001b[39m\u001b[39m\\\u001b[39m\u001b[39momnipose_multichannel\u001b[39m\u001b[39m\\\u001b[39m\u001b[39msequence\u001b[39m\u001b[39m'\u001b[39m\n\u001b[0;32m      4\u001b[0m files \u001b[39m=\u001b[39m [\u001b[39mstr\u001b[39m(p) \u001b[39mfor\u001b[39;00m p \u001b[39min\u001b[39;00m Path(basedir)\u001b[39m.\u001b[39mglob(\u001b[39m\"\u001b[39m\u001b[39mMax.tif*\u001b[39m\u001b[39m\"\u001b[39m)]\n\u001b[1;32m----> 6\u001b[0m \u001b[39mfrom\u001b[39;00m \u001b[39mcellpose_omni\u001b[39;00m \u001b[39mimport\u001b[39;00m io, transforms\n\u001b[0;32m      7\u001b[0m \u001b[39mfrom\u001b[39;00m \u001b[39momnipose\u001b[39;00m\u001b[39m.\u001b[39;00m\u001b[39mutils\u001b[39;00m \u001b[39mimport\u001b[39;00m normalize99\n\u001b[0;32m      8\u001b[0m imgs \u001b[39m=\u001b[39m [io\u001b[39m.\u001b[39mimread(f) \u001b[39mfor\u001b[39;00m f \u001b[39min\u001b[39;00m files]\n",
      "File \u001b[1;32mc:\\Users\\MicrobeJ\\anaconda3\\envs\\omnipose_env\\Lib\\site-packages\\cellpose_omni\\__init__.py:1\u001b[0m\n\u001b[1;32m----> 1\u001b[0m \u001b[39mfrom\u001b[39;00m \u001b[39m.\u001b[39;00m \u001b[39mimport\u001b[39;00m core\n\u001b[0;32m      2\u001b[0m \u001b[39mfrom\u001b[39;00m \u001b[39m.\u001b[39;00m \u001b[39mimport\u001b[39;00m utils\n\u001b[0;32m      3\u001b[0m \u001b[39mfrom\u001b[39;00m \u001b[39m.\u001b[39;00m\u001b[39m__main__\u001b[39;00m \u001b[39mimport\u001b[39;00m main\n",
      "File \u001b[1;32mc:\\Users\\MicrobeJ\\anaconda3\\envs\\omnipose_env\\Lib\\site-packages\\cellpose_omni\\core.py:9\u001b[0m\n\u001b[0;32m      7\u001b[0m \u001b[39mimport\u001b[39;00m \u001b[39mcv2\u001b[39;00m\n\u001b[0;32m      8\u001b[0m \u001b[39mfrom\u001b[39;00m \u001b[39mscipy\u001b[39;00m\u001b[39m.\u001b[39;00m\u001b[39mstats\u001b[39;00m \u001b[39mimport\u001b[39;00m mode\n\u001b[1;32m----> 9\u001b[0m \u001b[39mfrom\u001b[39;00m \u001b[39m.\u001b[39;00m \u001b[39mimport\u001b[39;00m transforms, dynamics, utils, metrics, io\n\u001b[0;32m     12\u001b[0m \u001b[39m# from focal_loss.focal_loss import FocalLoss\u001b[39;00m\n\u001b[0;32m     15\u001b[0m \u001b[39mtry\u001b[39;00m:\n",
      "File \u001b[1;32mc:\\Users\\MicrobeJ\\anaconda3\\envs\\omnipose_env\\Lib\\site-packages\\cellpose_omni\\transforms.py:8\u001b[0m\n\u001b[0;32m      5\u001b[0m \u001b[39mimport\u001b[39;00m \u001b[39mlogging\u001b[39;00m\n\u001b[0;32m      6\u001b[0m transforms_logger \u001b[39m=\u001b[39m logging\u001b[39m.\u001b[39mgetLogger(\u001b[39m__name__\u001b[39m)\n\u001b[1;32m----> 8\u001b[0m \u001b[39mfrom\u001b[39;00m \u001b[39m.\u001b[39;00m \u001b[39mimport\u001b[39;00m dynamics, utils\n\u001b[0;32m      9\u001b[0m \u001b[39mimport\u001b[39;00m \u001b[39mitertools\u001b[39;00m \u001b[39m# ND tiling\u001b[39;00m\n\u001b[0;32m     11\u001b[0m \u001b[39m# import omnipose, edt, fastremap\u001b[39;00m\n\u001b[0;32m     12\u001b[0m \u001b[39m# OMNI_INSTALLED = True\u001b[39;00m\n",
      "File \u001b[1;32mc:\\Users\\MicrobeJ\\anaconda3\\envs\\omnipose_env\\Lib\\site-packages\\cellpose_omni\\dynamics.py:7\u001b[0m\n\u001b[0;32m      5\u001b[0m \u001b[39mimport\u001b[39;00m \u001b[39mtifffile\u001b[39;00m\n\u001b[0;32m      6\u001b[0m \u001b[39mfrom\u001b[39;00m \u001b[39mtqdm\u001b[39;00m \u001b[39mimport\u001b[39;00m trange\n\u001b[1;32m----> 7\u001b[0m \u001b[39mfrom\u001b[39;00m \u001b[39mnumba\u001b[39;00m \u001b[39mimport\u001b[39;00m njit, float32, int32, vectorize\n\u001b[0;32m      8\u001b[0m \u001b[39mimport\u001b[39;00m \u001b[39mcv2\u001b[39;00m\n\u001b[0;32m      9\u001b[0m \u001b[39mimport\u001b[39;00m \u001b[39mfastremap\u001b[39;00m\n",
      "File \u001b[1;32mc:\\Users\\MicrobeJ\\anaconda3\\envs\\omnipose_env\\Lib\\site-packages\\numba\\__init__.py:55\u001b[0m\n\u001b[0;32m     50\u001b[0m             msg \u001b[39m=\u001b[39m (\u001b[39m\"\u001b[39m\u001b[39mNumba requires SciPy version 1.0 or greater. Got SciPy \u001b[39m\u001b[39m\"\u001b[39m\n\u001b[0;32m     51\u001b[0m                    \u001b[39mf\u001b[39m\u001b[39m\"\u001b[39m\u001b[39m{\u001b[39;00mscipy\u001b[39m.\u001b[39m__version__\u001b[39m}\u001b[39;00m\u001b[39m.\u001b[39m\u001b[39m\"\u001b[39m)\n\u001b[0;32m     52\u001b[0m             \u001b[39mraise\u001b[39;00m \u001b[39mImportError\u001b[39;00m(msg)\n\u001b[1;32m---> 55\u001b[0m _ensure_critical_deps()\n\u001b[0;32m     56\u001b[0m \u001b[39m# END DO NOT MOVE\u001b[39;00m\n\u001b[0;32m     57\u001b[0m \u001b[39m# ---------------------- WARNING WARNING WARNING ----------------------------\u001b[39;00m\n\u001b[0;32m     60\u001b[0m \u001b[39mfrom\u001b[39;00m \u001b[39m.\u001b[39;00m\u001b[39m_version\u001b[39;00m \u001b[39mimport\u001b[39;00m get_versions\n",
      "File \u001b[1;32mc:\\Users\\MicrobeJ\\anaconda3\\envs\\omnipose_env\\Lib\\site-packages\\numba\\__init__.py:42\u001b[0m, in \u001b[0;36m_ensure_critical_deps\u001b[1;34m()\u001b[0m\n\u001b[0;32m     40\u001b[0m     \u001b[39mraise\u001b[39;00m \u001b[39mImportError\u001b[39;00m(msg)\n\u001b[0;32m     41\u001b[0m \u001b[39melif\u001b[39;00m numpy_version \u001b[39m>\u001b[39m (\u001b[39m1\u001b[39m, \u001b[39m24\u001b[39m):\n\u001b[1;32m---> 42\u001b[0m     \u001b[39mraise\u001b[39;00m \u001b[39mImportError\u001b[39;00m(\u001b[39m\"\u001b[39m\u001b[39mNumba needs NumPy 1.24 or less\u001b[39m\u001b[39m\"\u001b[39m)\n\u001b[0;32m     43\u001b[0m \u001b[39mtry\u001b[39;00m:\n\u001b[0;32m     44\u001b[0m     \u001b[39mimport\u001b[39;00m \u001b[39mscipy\u001b[39;00m\n",
      "\u001b[1;31mImportError\u001b[0m: Numba needs NumPy 1.24 or less"
     ]
    }
   ],
   "source": [
    "from pathlib import Path\n",
    "\n",
    "basedir = r'C:\\Users\\MicrobeJ\\Downloads\\omnipose_multichannel\\sequence'\n",
    "files = [str(p) for p in Path(basedir).glob(\"Max.tif*\")]\n",
    "\n",
    "from cellpose_omni import io, transforms\n",
    "from omnipose.utils import normalize99\n",
    "imgs = [io.imread(f) for f in files]\n",
    "\n",
    "# print some info about the images.\n",
    "for i in imgs:\n",
    "    print('Original image shape:',i.shape)\n",
    "    print('data type:',i.dtype)\n",
    "    print('data range: min {}, max {}\\n'.format(i.min(),i.max()))\n",
    "nimg = len(imgs)\n",
    "print('\\nnumber of images:',nimg)\n",
    "\n",
    "fig = plt.figure(figsize=[40]*2,frameon=False) # initialize figure\n",
    "print('\\n')\n",
    "for k in range(len(imgs)):\n",
    "    img = transforms.move_min_dim(imgs[k]) # move the channel dimension last\n",
    "    if len(img.shape)>2:\n",
    "        # imgs[k] = img[:,:,1] # could pick out a specific channel\n",
    "        imgs[k] = np.mean(img,axis=-1) # or just turn into grayscale \n",
    "        \n",
    "    imgs[k] = normalize99(imgs[k])\n",
    "    # imgs[k] = np.pad(imgs[k],10,'edge')\n",
    "    print('new shape: ', imgs[k].shape)\n",
    "    plt.subplot(1,len(files),k+1)\n",
    "    plt.imshow(imgs[k],cmap='gray')\n",
    "    plt.axis('off')"
   ]
  },
  {
   "cell_type": "markdown",
   "id": "61d627ae",
   "metadata": {},
   "source": [
    "## Decide Which Model to use\n",
    "Here we will list the models and choose which model to use. I am assuming we will almost always use the bact_phase_omni or bact_phase_cp models\n"
   ]
  },
  {
   "cell_type": "code",
   "execution_count": 4,
   "id": "a467c35b",
   "metadata": {},
   "outputs": [
    {
     "ename": "ImportError",
     "evalue": "Numba needs NumPy 1.24 or less",
     "output_type": "error",
     "traceback": [
      "\u001b[1;31m---------------------------------------------------------------------------\u001b[0m",
      "\u001b[1;31mImportError\u001b[0m                               Traceback (most recent call last)",
      "Cell \u001b[1;32mIn[4], line 4\u001b[0m\n\u001b[0;32m      2\u001b[0m \u001b[39mimport\u001b[39;00m \u001b[39mnumpy\u001b[39;00m \u001b[39mas\u001b[39;00m \u001b[39mnp\u001b[39;00m\n\u001b[0;32m      3\u001b[0m \u001b[39mfrom\u001b[39;00m \u001b[39mpathlib\u001b[39;00m \u001b[39mimport\u001b[39;00m Path\n\u001b[1;32m----> 4\u001b[0m \u001b[39mfrom\u001b[39;00m \u001b[39mcellpose_omni\u001b[39;00m \u001b[39mimport\u001b[39;00m models, utils, io\n\u001b[0;32m      5\u001b[0m \u001b[39mimport\u001b[39;00m \u001b[39mtime\u001b[39;00m\n\u001b[0;32m      7\u001b[0m \u001b[39m# Initialize model\u001b[39;00m\n",
      "File \u001b[1;32mc:\\Users\\MicrobeJ\\anaconda3\\envs\\omnipose_env\\Lib\\site-packages\\cellpose_omni\\__init__.py:1\u001b[0m\n\u001b[1;32m----> 1\u001b[0m \u001b[39mfrom\u001b[39;00m \u001b[39m.\u001b[39;00m \u001b[39mimport\u001b[39;00m core\n\u001b[0;32m      2\u001b[0m \u001b[39mfrom\u001b[39;00m \u001b[39m.\u001b[39;00m \u001b[39mimport\u001b[39;00m utils\n\u001b[0;32m      3\u001b[0m \u001b[39mfrom\u001b[39;00m \u001b[39m.\u001b[39;00m\u001b[39m__main__\u001b[39;00m \u001b[39mimport\u001b[39;00m main\n",
      "File \u001b[1;32mc:\\Users\\MicrobeJ\\anaconda3\\envs\\omnipose_env\\Lib\\site-packages\\cellpose_omni\\core.py:9\u001b[0m\n\u001b[0;32m      7\u001b[0m \u001b[39mimport\u001b[39;00m \u001b[39mcv2\u001b[39;00m\n\u001b[0;32m      8\u001b[0m \u001b[39mfrom\u001b[39;00m \u001b[39mscipy\u001b[39;00m\u001b[39m.\u001b[39;00m\u001b[39mstats\u001b[39;00m \u001b[39mimport\u001b[39;00m mode\n\u001b[1;32m----> 9\u001b[0m \u001b[39mfrom\u001b[39;00m \u001b[39m.\u001b[39;00m \u001b[39mimport\u001b[39;00m transforms, dynamics, utils, metrics, io\n\u001b[0;32m     12\u001b[0m \u001b[39m# from focal_loss.focal_loss import FocalLoss\u001b[39;00m\n\u001b[0;32m     15\u001b[0m \u001b[39mtry\u001b[39;00m:\n",
      "File \u001b[1;32mc:\\Users\\MicrobeJ\\anaconda3\\envs\\omnipose_env\\Lib\\site-packages\\cellpose_omni\\transforms.py:8\u001b[0m\n\u001b[0;32m      5\u001b[0m \u001b[39mimport\u001b[39;00m \u001b[39mlogging\u001b[39;00m\n\u001b[0;32m      6\u001b[0m transforms_logger \u001b[39m=\u001b[39m logging\u001b[39m.\u001b[39mgetLogger(\u001b[39m__name__\u001b[39m)\n\u001b[1;32m----> 8\u001b[0m \u001b[39mfrom\u001b[39;00m \u001b[39m.\u001b[39;00m \u001b[39mimport\u001b[39;00m dynamics, utils\n\u001b[0;32m      9\u001b[0m \u001b[39mimport\u001b[39;00m \u001b[39mitertools\u001b[39;00m \u001b[39m# ND tiling\u001b[39;00m\n\u001b[0;32m     11\u001b[0m \u001b[39m# import omnipose, edt, fastremap\u001b[39;00m\n\u001b[0;32m     12\u001b[0m \u001b[39m# OMNI_INSTALLED = True\u001b[39;00m\n",
      "File \u001b[1;32mc:\\Users\\MicrobeJ\\anaconda3\\envs\\omnipose_env\\Lib\\site-packages\\cellpose_omni\\dynamics.py:7\u001b[0m\n\u001b[0;32m      5\u001b[0m \u001b[39mimport\u001b[39;00m \u001b[39mtifffile\u001b[39;00m\n\u001b[0;32m      6\u001b[0m \u001b[39mfrom\u001b[39;00m \u001b[39mtqdm\u001b[39;00m \u001b[39mimport\u001b[39;00m trange\n\u001b[1;32m----> 7\u001b[0m \u001b[39mfrom\u001b[39;00m \u001b[39mnumba\u001b[39;00m \u001b[39mimport\u001b[39;00m njit, float32, int32, vectorize\n\u001b[0;32m      8\u001b[0m \u001b[39mimport\u001b[39;00m \u001b[39mcv2\u001b[39;00m\n\u001b[0;32m      9\u001b[0m \u001b[39mimport\u001b[39;00m \u001b[39mfastremap\u001b[39;00m\n",
      "File \u001b[1;32mc:\\Users\\MicrobeJ\\anaconda3\\envs\\omnipose_env\\Lib\\site-packages\\numba\\__init__.py:55\u001b[0m\n\u001b[0;32m     50\u001b[0m             msg \u001b[39m=\u001b[39m (\u001b[39m\"\u001b[39m\u001b[39mNumba requires SciPy version 1.0 or greater. Got SciPy \u001b[39m\u001b[39m\"\u001b[39m\n\u001b[0;32m     51\u001b[0m                    \u001b[39mf\u001b[39m\u001b[39m\"\u001b[39m\u001b[39m{\u001b[39;00mscipy\u001b[39m.\u001b[39m__version__\u001b[39m}\u001b[39;00m\u001b[39m.\u001b[39m\u001b[39m\"\u001b[39m)\n\u001b[0;32m     52\u001b[0m             \u001b[39mraise\u001b[39;00m \u001b[39mImportError\u001b[39;00m(msg)\n\u001b[1;32m---> 55\u001b[0m _ensure_critical_deps()\n\u001b[0;32m     56\u001b[0m \u001b[39m# END DO NOT MOVE\u001b[39;00m\n\u001b[0;32m     57\u001b[0m \u001b[39m# ---------------------- WARNING WARNING WARNING ----------------------------\u001b[39;00m\n\u001b[0;32m     60\u001b[0m \u001b[39mfrom\u001b[39;00m \u001b[39m.\u001b[39;00m\u001b[39m_version\u001b[39;00m \u001b[39mimport\u001b[39;00m get_versions\n",
      "File \u001b[1;32mc:\\Users\\MicrobeJ\\anaconda3\\envs\\omnipose_env\\Lib\\site-packages\\numba\\__init__.py:42\u001b[0m, in \u001b[0;36m_ensure_critical_deps\u001b[1;34m()\u001b[0m\n\u001b[0;32m     40\u001b[0m     \u001b[39mraise\u001b[39;00m \u001b[39mImportError\u001b[39;00m(msg)\n\u001b[0;32m     41\u001b[0m \u001b[39melif\u001b[39;00m numpy_version \u001b[39m>\u001b[39m (\u001b[39m1\u001b[39m, \u001b[39m24\u001b[39m):\n\u001b[1;32m---> 42\u001b[0m     \u001b[39mraise\u001b[39;00m \u001b[39mImportError\u001b[39;00m(\u001b[39m\"\u001b[39m\u001b[39mNumba needs NumPy 1.24 or less\u001b[39m\u001b[39m\"\u001b[39m)\n\u001b[0;32m     43\u001b[0m \u001b[39mtry\u001b[39;00m:\n\u001b[0;32m     44\u001b[0m     \u001b[39mimport\u001b[39;00m \u001b[39mscipy\u001b[39;00m\n",
      "\u001b[1;31mImportError\u001b[0m: Numba needs NumPy 1.24 or less"
     ]
    }
   ],
   "source": [
    "from skimage.io import imread, imsave\n",
    "import numpy as np\n",
    "from pathlib import Path\n",
    "from cellpose_omni import models, utils, io\n",
    "import time\n",
    "\n",
    "# Initialize model\n",
    "model_name = 'bact_phase_omni'\n",
    "model = models.CellposeModel(gpu=False, model_type=model_name)\n",
    "\n",
    "# Parameters\n",
    "chans = [0,0]  # Segment based on first channel, no second channel\n",
    "n = range(len(files))  # Segment all images\n",
    "mask_threshold = -1\n",
    "flow_threshold = 0\n",
    "niter = None\n",
    "omni = True\n",
    "cluster = True\n",
    "resample = True\n",
    "verbose = 0\n",
    "affinity_seg = 0\n",
    "\n",
    "# Run segmentation\n",
    "tic = time.time()\n",
    "masks, flows, styles = model.eval(\n",
    "    [imread(f)[..., 0] for f in files],  # Reading only the first channel for segmentation\n",
    "    channels=chans,\n",
    "    mask_threshold=mask_threshold,\n",
    "    flow_threshold=flow_threshold,\n",
    "    niter=niter,\n",
    "    omni=omni,\n",
    "    cluster=cluster,\n",
    "    resample=resample,\n",
    "    verbose=verbose,\n",
    "    affinity_seg=affinity_seg\n",
    ")\n",
    "net_time = time.time() - tic\n",
    "print(f'total segmentation time: {net_time}s')\n",
    "\n",
    "# Apply masks and save images\n",
    "for idx, mask in enumerate(masks):\n",
    "    original_image = imread(files[idx])  # Read the original multi-channel image\n",
    "    if original_image.shape[:2] != mask.shape:\n",
    "        print(f\"Dimension mismatch for {files[idx]}\")\n",
    "        continue\n",
    "\n",
    "    # Extend mask dimensions to match the multi-channel image\n",
    "    mask_multi_channel = np.repeat(mask[:, :, np.newaxis], original_image.shape[2], axis=2)\n",
    "\n",
    "    # Apply the mask to all channels\n",
    "    masked_image = original_image * (mask_multi_channel > 0)\n",
    "\n",
    "    # Save masked image and other outputs\n",
    "    filename = Path(files[idx]).name\n",
    "    base_name = Path(filename).stem\n",
    "    imsave(f\"{basedir}/{base_name}_masked.tif\", masked_image.astype(np.uint16))\n",
    "\n",
    "    outlines = utils.outlines_list(mask)\n",
    "    io.outlines_to_text(f\"{basedir}/{base_name}_outlines.txt\", outlines)\n",
    "    imsave(f\"{basedir}/{base_name}_mask.tif\", mask.astype(np.uint16))\n"
   ]
  },
  {
   "cell_type": "code",
   "execution_count": 3,
   "id": "aad9028e",
   "metadata": {},
   "outputs": [
    {
     "ename": "ImportError",
     "evalue": "Numba needs NumPy 1.24 or less",
     "output_type": "error",
     "traceback": [
      "\u001b[1;31m---------------------------------------------------------------------------\u001b[0m",
      "\u001b[1;31mImportError\u001b[0m                               Traceback (most recent call last)",
      "Cell \u001b[1;32mIn[3], line 1\u001b[0m\n\u001b[1;32m----> 1\u001b[0m \u001b[39mfrom\u001b[39;00m \u001b[39mcellpose_omni\u001b[39;00m \u001b[39mimport\u001b[39;00m plot\n\u001b[0;32m      2\u001b[0m \u001b[39mimport\u001b[39;00m \u001b[39momnipose\u001b[39;00m\n\u001b[0;32m      4\u001b[0m \u001b[39mfor\u001b[39;00m idx,i \u001b[39min\u001b[39;00m \u001b[39menumerate\u001b[39m(n):\n",
      "File \u001b[1;32mc:\\Users\\MicrobeJ\\anaconda3\\envs\\omnipose_env\\Lib\\site-packages\\cellpose_omni\\__init__.py:1\u001b[0m\n\u001b[1;32m----> 1\u001b[0m \u001b[39mfrom\u001b[39;00m \u001b[39m.\u001b[39;00m \u001b[39mimport\u001b[39;00m core\n\u001b[0;32m      2\u001b[0m \u001b[39mfrom\u001b[39;00m \u001b[39m.\u001b[39;00m \u001b[39mimport\u001b[39;00m utils\n\u001b[0;32m      3\u001b[0m \u001b[39mfrom\u001b[39;00m \u001b[39m.\u001b[39;00m\u001b[39m__main__\u001b[39;00m \u001b[39mimport\u001b[39;00m main\n",
      "File \u001b[1;32mc:\\Users\\MicrobeJ\\anaconda3\\envs\\omnipose_env\\Lib\\site-packages\\cellpose_omni\\core.py:9\u001b[0m\n\u001b[0;32m      7\u001b[0m \u001b[39mimport\u001b[39;00m \u001b[39mcv2\u001b[39;00m\n\u001b[0;32m      8\u001b[0m \u001b[39mfrom\u001b[39;00m \u001b[39mscipy\u001b[39;00m\u001b[39m.\u001b[39;00m\u001b[39mstats\u001b[39;00m \u001b[39mimport\u001b[39;00m mode\n\u001b[1;32m----> 9\u001b[0m \u001b[39mfrom\u001b[39;00m \u001b[39m.\u001b[39;00m \u001b[39mimport\u001b[39;00m transforms, dynamics, utils, metrics, io\n\u001b[0;32m     12\u001b[0m \u001b[39m# from focal_loss.focal_loss import FocalLoss\u001b[39;00m\n\u001b[0;32m     15\u001b[0m \u001b[39mtry\u001b[39;00m:\n",
      "File \u001b[1;32mc:\\Users\\MicrobeJ\\anaconda3\\envs\\omnipose_env\\Lib\\site-packages\\cellpose_omni\\transforms.py:8\u001b[0m\n\u001b[0;32m      5\u001b[0m \u001b[39mimport\u001b[39;00m \u001b[39mlogging\u001b[39;00m\n\u001b[0;32m      6\u001b[0m transforms_logger \u001b[39m=\u001b[39m logging\u001b[39m.\u001b[39mgetLogger(\u001b[39m__name__\u001b[39m)\n\u001b[1;32m----> 8\u001b[0m \u001b[39mfrom\u001b[39;00m \u001b[39m.\u001b[39;00m \u001b[39mimport\u001b[39;00m dynamics, utils\n\u001b[0;32m      9\u001b[0m \u001b[39mimport\u001b[39;00m \u001b[39mitertools\u001b[39;00m \u001b[39m# ND tiling\u001b[39;00m\n\u001b[0;32m     11\u001b[0m \u001b[39m# import omnipose, edt, fastremap\u001b[39;00m\n\u001b[0;32m     12\u001b[0m \u001b[39m# OMNI_INSTALLED = True\u001b[39;00m\n",
      "File \u001b[1;32mc:\\Users\\MicrobeJ\\anaconda3\\envs\\omnipose_env\\Lib\\site-packages\\cellpose_omni\\dynamics.py:7\u001b[0m\n\u001b[0;32m      5\u001b[0m \u001b[39mimport\u001b[39;00m \u001b[39mtifffile\u001b[39;00m\n\u001b[0;32m      6\u001b[0m \u001b[39mfrom\u001b[39;00m \u001b[39mtqdm\u001b[39;00m \u001b[39mimport\u001b[39;00m trange\n\u001b[1;32m----> 7\u001b[0m \u001b[39mfrom\u001b[39;00m \u001b[39mnumba\u001b[39;00m \u001b[39mimport\u001b[39;00m njit, float32, int32, vectorize\n\u001b[0;32m      8\u001b[0m \u001b[39mimport\u001b[39;00m \u001b[39mcv2\u001b[39;00m\n\u001b[0;32m      9\u001b[0m \u001b[39mimport\u001b[39;00m \u001b[39mfastremap\u001b[39;00m\n",
      "File \u001b[1;32mc:\\Users\\MicrobeJ\\anaconda3\\envs\\omnipose_env\\Lib\\site-packages\\numba\\__init__.py:55\u001b[0m\n\u001b[0;32m     50\u001b[0m             msg \u001b[39m=\u001b[39m (\u001b[39m\"\u001b[39m\u001b[39mNumba requires SciPy version 1.0 or greater. Got SciPy \u001b[39m\u001b[39m\"\u001b[39m\n\u001b[0;32m     51\u001b[0m                    \u001b[39mf\u001b[39m\u001b[39m\"\u001b[39m\u001b[39m{\u001b[39;00mscipy\u001b[39m.\u001b[39m__version__\u001b[39m}\u001b[39;00m\u001b[39m.\u001b[39m\u001b[39m\"\u001b[39m)\n\u001b[0;32m     52\u001b[0m             \u001b[39mraise\u001b[39;00m \u001b[39mImportError\u001b[39;00m(msg)\n\u001b[1;32m---> 55\u001b[0m _ensure_critical_deps()\n\u001b[0;32m     56\u001b[0m \u001b[39m# END DO NOT MOVE\u001b[39;00m\n\u001b[0;32m     57\u001b[0m \u001b[39m# ---------------------- WARNING WARNING WARNING ----------------------------\u001b[39;00m\n\u001b[0;32m     60\u001b[0m \u001b[39mfrom\u001b[39;00m \u001b[39m.\u001b[39;00m\u001b[39m_version\u001b[39;00m \u001b[39mimport\u001b[39;00m get_versions\n",
      "File \u001b[1;32mc:\\Users\\MicrobeJ\\anaconda3\\envs\\omnipose_env\\Lib\\site-packages\\numba\\__init__.py:42\u001b[0m, in \u001b[0;36m_ensure_critical_deps\u001b[1;34m()\u001b[0m\n\u001b[0;32m     40\u001b[0m     \u001b[39mraise\u001b[39;00m \u001b[39mImportError\u001b[39;00m(msg)\n\u001b[0;32m     41\u001b[0m \u001b[39melif\u001b[39;00m numpy_version \u001b[39m>\u001b[39m (\u001b[39m1\u001b[39m, \u001b[39m24\u001b[39m):\n\u001b[1;32m---> 42\u001b[0m     \u001b[39mraise\u001b[39;00m \u001b[39mImportError\u001b[39;00m(\u001b[39m\"\u001b[39m\u001b[39mNumba needs NumPy 1.24 or less\u001b[39m\u001b[39m\"\u001b[39m)\n\u001b[0;32m     43\u001b[0m \u001b[39mtry\u001b[39;00m:\n\u001b[0;32m     44\u001b[0m     \u001b[39mimport\u001b[39;00m \u001b[39mscipy\u001b[39;00m\n",
      "\u001b[1;31mImportError\u001b[0m: Numba needs NumPy 1.24 or less"
     ]
    }
   ],
   "source": [
    "from cellpose_omni import plot\n",
    "import omnipose\n",
    "\n",
    "for idx,i in enumerate(n):\n",
    "\n",
    "    maski = masks[idx] # get masks\n",
    "    bdi = flows[idx][-1] # get boundaries\n",
    "    flowi = flows[idx][0] # get RGB flows \n",
    "\n",
    "    # set up the output figure to better match the resolution of the images \n",
    "    f = 10\n",
    "    szX = maski.shape[-1]/mpl.rcParams['figure.dpi']*f\n",
    "    szY = maski.shape[-2]/mpl.rcParams['figure.dpi']*f\n",
    "    fig = plt.figure(figsize=(szY,szX*4))\n",
    "    fig.patch.set_facecolor([0]*4)\n",
    "    \n",
    "    plot.show_segmentation(fig, omnipose.utils.normalize99(imgs[i]), \n",
    "                           maski, flowi, bdi, channels=chans, omni=True)\n",
    "\n",
    "    plt.tight_layout()\n",
    "    plt.show()\n",
    "\n",
    "\n",
    "base = os.path.splitext(image_name)[0]\n",
    "outlines = utils.outlines_list(masks)\n",
    "io.outlines_to_text(base, outlines)\n",
    "io.save_to_png(images, masks, flows, image_names)   "
   ]
  },
  {
   "cell_type": "code",
   "execution_count": null,
   "id": "c420ef98",
   "metadata": {},
   "outputs": [],
   "source": [
    "from cellpose_omni import io, plot\n",
    "\n",
    "# image_name is file name of image\n",
    "# masks is numpy array of masks for image\n",
    "base = os.path.splitext(image_name)[0]\n",
    "outlines = utils.outlines_list(masks)\n",
    "io.outlines_to_text(base, outlines)"
   ]
  }
 ],
 "metadata": {
  "kernelspec": {
   "display_name": "base",
   "language": "python",
   "name": "python3"
  },
  "language_info": {
   "codemirror_mode": {
    "name": "ipython",
    "version": 3
   },
   "file_extension": ".py",
   "mimetype": "text/x-python",
   "name": "python",
   "nbconvert_exporter": "python",
   "pygments_lexer": "ipython3",
   "version": "3.11.4"
  }
 },
 "nbformat": 4,
 "nbformat_minor": 5
}
