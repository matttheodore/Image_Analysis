{
 "cells": [
  {
   "cell_type": "markdown",
   "id": "a0e407d7",
   "metadata": {},
   "source": [
    "This notebook sets up the required dependencies for Omnipose using a conda virtual environment."
   ]
  },
  {
   "cell_type": "code",
   "execution_count": 1,
   "id": "aa275ac5",
   "metadata": {},
   "outputs": [
    {
     "ename": "SyntaxError",
     "evalue": "invalid syntax (2796207961.py, line 2)",
     "output_type": "error",
     "traceback": [
      "\u001b[1;36m  Cell \u001b[1;32mIn[1], line 2\u001b[1;36m\u001b[0m\n\u001b[1;33m    conda create --name <somename like omnipose_env_fresh> 'python=3.10.12' pytorch\u001b[0m\n\u001b[1;37m          ^\u001b[0m\n\u001b[1;31mSyntaxError\u001b[0m\u001b[1;31m:\u001b[0m invalid syntax\n"
     ]
    }
   ],
   "source": [
    "#Create a new conda virtual environment named 'omnipose_env'\n",
    "conda create --name <somename like omnipose_env_fresh> 'python=3.10.12' pytorch\n",
    "\n",
    "# Activate the virtual environment\n",
    "conda activate omnipose_env_fresh\n",
    "\n",
    "# Install the required dependencies as well (hit yes at the prompting) \n",
    "conda install omnipose\n",
    "\n",
    "\n",
    "conda install ipykernel # you need this package to be able to run code chunks in vscode program. \n",
    "\n",
    "conda env export > environment_name.yml # this will export the conda environment so it can be imported on otehr machines to flawlessly set up the environment\n",
    "\n",
    "conda env create -f <environment_name.yml> # this will setup using a file\n",
    "\n"
   ]
  },
  {
   "cell_type": "code",
   "execution_count": null,
   "id": "a79fc843",
   "metadata": {},
   "outputs": [],
   "source": []
  }
 ],
 "metadata": {
  "kernelspec": {
   "display_name": "base",
   "language": "python",
   "name": "python3"
  },
  "language_info": {
   "codemirror_mode": {
    "name": "ipython",
    "version": 3
   },
   "file_extension": ".py",
   "mimetype": "text/x-python",
   "name": "python",
   "nbconvert_exporter": "python",
   "pygments_lexer": "ipython3",
   "version": "3.10.12"
  }
 },
 "nbformat": 4,
 "nbformat_minor": 5
}
