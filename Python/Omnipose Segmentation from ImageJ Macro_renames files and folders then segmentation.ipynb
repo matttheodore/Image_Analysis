{
 "cells": [
  {
   "cell_type": "markdown",
   "metadata": {},
   "source": [
    "# Omnipose Segmentation from ImageJ Macro converted image directories\n",
    "\n",
    "This file is meant to aid in omnipose segmentation in a reproducible and streamlined way to help with automated image analysis especially early QC to adjust experimental and imaging parameters as needed to optimize S/N for the experiment. "
   ]
  },
  {
   "cell_type": "markdown",
   "metadata": {},
   "source": [
    "#### Import Necessary packages and Functions"
   ]
  },
  {
   "cell_type": "code",
   "execution_count": 1,
   "metadata": {},
   "outputs": [
    {
     "name": "stderr",
     "output_type": "stream",
     "text": [
      "c:\\Users\\MicrobeJ\\anaconda3\\envs\\omnipose_env\\Lib\\site-packages\\tqdm\\auto.py:21: TqdmWarning: IProgress not found. Please update jupyter and ipywidgets. See https://ipywidgets.readthedocs.io/en/stable/user_install.html\n",
      "  from .autonotebook import tqdm as notebook_tqdm\n"
     ]
    }
   ],
   "source": [
    "# Imports for all chunks\n",
    "import os\n",
    "import shutil\n",
    "from aicsimageio.readers.ome_tiff_reader import OmeTiffReader\n",
    "import numpy as np\n",
    "from cellpose_omni import models, core\n",
    "import matplotlib as mpl\n",
    "import matplotlib.pyplot as plt\n",
    "from skimage.io import imread, imsave\n",
    "from pathlib import Path\n",
    "import time\n"
   ]
  },
  {
   "cell_type": "code",
   "execution_count": 2,
   "metadata": {},
   "outputs": [],
   "source": [
    "\n",
    "\n",
    "import os\n",
    "import shutil\n",
    "from aicsimageio.readers.ome_tiff_reader import OmeTiffReader\n",
    "\n",
    "# Mapping dictionary for renaming channels\n",
    "channel_map = {'Phase': 'phase', 'eGFP': 'fish', 'DAPI': 'dapi'}\n",
    "\n",
    "# Root directory\n",
    "root_dir = 'C:\\\\Users\\\\MicrobeJ\\\\Downloads\\\\omnipose_multichannel\\\\sandbox_2'\n",
    "\n",
    "# Navigate through directories to find OME.TIFF files and rename them\n",
    "for biorep_dir in os.listdir(root_dir):\n",
    "    biorep_path = os.path.join(root_dir, biorep_dir)\n",
    "    if os.path.isdir(biorep_path):\n",
    "        for date_strain_dir in os.listdir(biorep_path):\n",
    "            date_strain_path = os.path.join(biorep_path, date_strain_dir)\n",
    "            if os.path.isdir(date_strain_path):\n",
    "                for sub_dir in os.listdir(date_strain_path):\n",
    "                    sub_dir_path = os.path.join(date_strain_path, sub_dir)\n",
    "                    if os.path.isdir(sub_dir_path):\n",
    "                        for img_data_dir in os.listdir(sub_dir_path):\n",
    "                            img_data_path = os.path.join(sub_dir_path, img_data_dir)\n",
    "                            if os.path.isdir(img_data_path):\n",
    "                                for file in os.listdir(img_data_path):\n",
    "                                    if file.endswith('.ome.tiff') or file.endswith('.ome.tif'):\n",
    "                                        file_path = os.path.join(img_data_path, file)\n",
    "                                        \n",
    "                                        # Read the OME.TIFF file to get channel names\n",
    "                                        reader = OmeTiffReader(file_path)\n",
    "                                        ome_metadata = reader.ome_metadata\n",
    "                                        channel_names = [channel.name for channel in ome_metadata.images[0].pixels.channels]\n",
    "                                        \n",
    "                                        # Rename folders and files based on channel names\n",
    "                                        for i, channel_name in enumerate(channel_names):\n",
    "                                            # Map the original channel name to the new name using the channel_map dictionary\n",
    "                                            mapped_name = channel_map.get(channel_name, channel_name)\n",
    "                                            \n",
    "                                            # Create the old and new folder names based on channel index\n",
    "                                            old_folder_name = f\"C{i+1}-MAX_sequence\"\n",
    "                                            new_folder_name = f\"{mapped_name}-MAX_sequence\"\n",
    "                                            \n",
    "                                            # Create the full path to the old and new folder names\n",
    "                                            old_folder_path = os.path.join(img_data_path, old_folder_name)\n",
    "                                            new_folder_path = os.path.join(img_data_path, new_folder_name)\n",
    "                                            \n",
    "                                            # If the old folder exists, rename it to the new folder name\n",
    "                                            if os.path.exists(old_folder_path):\n",
    "                                                shutil.move(old_folder_path, new_folder_path)\n",
    "                                            \n",
    "                                            # Rename individual single-page TIFF files inside the new folder\n",
    "                                            for single_tiff in os.listdir(new_folder_path):\n",
    "                                                # Check if the file starts with the old channel name\n",
    "                                                if single_tiff.startswith(f\"C{i+1}-MAX\"):\n",
    "                                                    # Create the full path to the old single-page TIFF file\n",
    "                                                    old_single_tiff_path = os.path.join(new_folder_path, single_tiff)\n",
    "                                                    \n",
    "                                                    # Create the new single-page TIFF file name based on mapped channel name\n",
    "                                                    new_single_tiff_name = single_tiff.replace(f\"C{i+1}-MAX\", f\"{mapped_name}-MAX\")\n",
    "                                                    \n",
    "                                                    # Create the full path to the new single-page TIFF file\n",
    "                                                    new_single_tiff_path = os.path.join(new_folder_path, new_single_tiff_name)\n",
    "                                                    \n",
    "                                                    # Rename the old single-page TIFF file to the new name\n",
    "                                                    shutil.move(old_single_tiff_path, new_single_tiff_path)\n",
    "                                            \n",
    "                                            # Create old and new multi-page TIFF file names based on channel index\n",
    "                                            old_file_name = f\"C{i+1}-MAX.tif\"\n",
    "                                            new_file_name = f\"{mapped_name}-MAX.tif\"\n",
    "                                            \n",
    "                                            # Create the full path to the old and new multi-page TIFF files\n",
    "                                            old_file_path = os.path.join(img_data_path, old_file_name)\n",
    "                                            new_file_path = os.path.join(img_data_path, new_file_name)\n",
    "                                            \n",
    "                                            # If the old multi-page TIFF file exists, rename it to the new name\n",
    "                                            if os.path.exists(old_file_path):\n",
    "                                                shutil.move(old_file_path, new_file_path)\n",
    "\n",
    "\n"
   ]
  },
  {
   "cell_type": "markdown",
   "metadata": {},
   "source": [
    "## Running Omnipose for Segmentation\n",
    "\n",
    "Here is the incorporation into the omnipose script"
   ]
  },
  {
   "cell_type": "markdown",
   "metadata": {},
   "source": [
    "### Importing the images and QC to check images match expectations"
   ]
  },
  {
   "cell_type": "code",
   "execution_count": null,
   "metadata": {},
   "outputs": [],
   "source": [
    "import numpy as np\n",
    "from cellpose_omni import models, core, io, transforms\n",
    "from omnipose.utils import normalize99\n",
    "import matplotlib as mpl\n",
    "import matplotlib.pyplot as plt\n",
    "from pathlib import Path\n",
    "from skimage.io import imread, imsave\n",
    "\n",
    "# Check GPU setup\n",
    "use_GPU = core.use_gpu()\n",
    "print(f'>>> GPU activated? {use_GPU}')\n",
    "\n",
    "# Image loading and initial analysis\n",
    "imgs = [io.imread(f) for f in phase_max_sequence_files]\n",
    "\n",
    "# Counter for total images\n",
    "total_images = len(imgs)\n",
    "\n",
    "# Counter for images with issues\n",
    "issues_counter = 0\n",
    "\n",
    "# Quality control and Data check\n",
    "for idx, i in enumerate(imgs):\n",
    "    shape = i.shape\n",
    "    dtype = i.dtype\n",
    "    min_val, max_val = i.min(), i.max()\n",
    "\n",
    "    # Add quality control checks here. For example:\n",
    "    if shape != (512, 512) or min_val < 4000 or max_val > 28000:\n",
    "        issues_counter += 1\n",
    "        print(f\"Warning: Image at {phase_max_sequence_files[idx]} has issues.\")\n",
    "        print(f\"  - Original image shape: {shape}\")\n",
    "        print(f\"  - Data type: {dtype}\")\n",
    "        print(f\"  - Data range: min {min_val}, max {max_val}\")\n",
    "\n",
    "print(f\"\\nTotal number of images processed: {total_images}\")\n",
    "if issues_counter:\n",
    "    print(f\"Number of images with issues: {issues_counter}\")\n",
    "else:\n",
    "    print(\"No issues found in images.\")"
   ]
  },
  {
   "cell_type": "markdown",
   "metadata": {},
   "source": [
    "### Image Segmetnation and Saving Results\n"
   ]
  },
  {
   "cell_type": "code",
   "execution_count": null,
   "metadata": {},
   "outputs": [],
   "source": [
    "import time\n",
    "from cellpose_omni import utils\n",
    "\n",
    "# Initialize model and parameters\n",
    "model_name = 'bact_phase_omni'\n",
    "model = models.CellposeModel(gpu=False, model_type=model_name)\n",
    "params = {'channels': [0, 0], 'mask_threshold': -1, 'flow_threshold': 0,\n",
    "          'niter': None, 'omni': True, 'cluster': True, 'resample': True,\n",
    "          'verbose': 0, 'affinity_seg': 0}\n",
    "\n",
    "# Run segmentation\n",
    "tic = time.time()\n",
    "masks, flows, styles = model.eval(imgs, **params)\n",
    "net_time = time.time() - tic\n",
    "print(f'Total segmentation time: {net_time}s')\n",
    "\n",
    "# Save results\n",
    "for idx, mask in enumerate(masks):"
   ]
  }
 ],
 "metadata": {
  "kernelspec": {
   "display_name": "omnipose_env",
   "language": "python",
   "name": "python3"
  },
  "language_info": {
   "codemirror_mode": {
    "name": "ipython",
    "version": 3
   },
   "file_extension": ".py",
   "mimetype": "text/x-python",
   "name": "python",
   "nbconvert_exporter": "python",
   "pygments_lexer": "ipython3",
   "version": "3.11.4"
  }
 },
 "nbformat": 4,
 "nbformat_minor": 2
}
